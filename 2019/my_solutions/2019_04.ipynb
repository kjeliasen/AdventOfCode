{
 "cells": [
  {
   "cell_type": "markdown",
   "metadata": {},
   "source": [
    "# Day 4: Secure Container\n",
    "\n",
    "[Aoc Site](https://adventofcode.com/2019/day/4)"
   ]
  },
  {
   "cell_type": "markdown",
   "metadata": {},
   "source": [
    "## Part I"
   ]
  },
  {
   "cell_type": "markdown",
   "metadata": {},
   "source": [
    "You arrive at the Venus fuel depot only to discover it's protected by a password. The Elves had written the password on a sticky note, but someone threw it out."
   ]
  },
  {
   "cell_type": "markdown",
   "metadata": {},
   "source": [
    "However, they do remember a few key facts about the password:\n",
    "   - It is a six-digit number.\n",
    "   - The value is within the range given in your puzzle input.\n",
    "   - Two adjacent digits are the same (like 22 in 122345).\n",
    "   - Going from left to right, the digits never decrease; they only ever increase or stay the same (like 111123 or 135679)."
   ]
  },
  {
   "cell_type": "markdown",
   "metadata": {},
   "source": [
    "Other than the range rule, the following are true:\n",
    "  - 111111 meets these criteria (double 11, never decreases).\n",
    "  - 223450 does not meet these criteria (decreasing pair of digits 50).\n",
    "  - 123789 does not meet these criteria (no double)."
   ]
  },
  {
   "cell_type": "markdown",
   "metadata": {},
   "source": [
    "***How many different passwords within the range given in your puzzle input meet these criteria?***\n",
    "\n",
    "Your puzzle input is `245318-765747`."
   ]
  },
  {
   "cell_type": "code",
   "execution_count": 34,
   "metadata": {},
   "outputs": [],
   "source": [
    "import pandas as pd\n",
    "import re"
   ]
  },
  {
   "cell_type": "code",
   "execution_count": 101,
   "metadata": {},
   "outputs": [
    {
     "name": "stdout",
     "output_type": "stream",
     "text": [
      "77\n",
      "8\n"
     ]
    },
    {
     "data": {
      "text/plain": [
       "count      1079.000000\n",
       "mean     398032.149212\n",
       "std      112440.503976\n",
       "min      245555.000000\n",
       "25%      333843.500000\n",
       "50%      355669.000000\n",
       "75%      456667.500000\n",
       "max      699999.000000\n",
       "Name: hits, dtype: float64"
      ]
     },
     "metadata": {},
     "output_type": "display_data"
    },
    {
     "data": {
      "text/plain": [
       "1079"
      ]
     },
     "execution_count": 101,
     "metadata": {},
     "output_type": "execute_result"
    }
   ],
   "source": [
    "# Functionize modulator\n",
    "\n",
    "def determine_passwords(lb=245318, ub=765747):\n",
    "    hits=[]\n",
    "    lima = (lb // 100000, ub // 100000)\n",
    "    limb = (lb // 10000, ub // 10000)\n",
    "    limc = (lb // 1000, ub // 1000)\n",
    "    limd = (lb // 100, ub // 100)\n",
    "    lime = (lb // 10, ub // 10)\n",
    "    limf = (lb, ub)\n",
    "    \n",
    "    for a in range(10):\n",
    "        chka = a\n",
    "        if chka < lima[0]:\n",
    "            continue\n",
    "        if chka > lima[1]:\n",
    "            print(chka)\n",
    "            break\n",
    "        for b in range(a,10):\n",
    "            chkb = 10 * chka + b\n",
    "            if chkb < limb[0]:\n",
    "                continue\n",
    "            if chkb > limb[1]:\n",
    "                print(chkb)\n",
    "                break\n",
    "            for c in range(b,10):\n",
    "                chkc = 10 * chkb + c\n",
    "                if chkc < limc[0]:\n",
    "                    continue\n",
    "                if chkc > limc[1]:\n",
    "                    print(chkc)\n",
    "                    break\n",
    "                for d in range(c,10):\n",
    "                    chkd = 10 * chkc + d\n",
    "                    if chkd < limd[0]:\n",
    "                        continue\n",
    "                    if chkd > limd[1]:\n",
    "                        print(chkd)\n",
    "                        break\n",
    "                    for e in range(d,10):\n",
    "                        chke = 10 * chkd + e\n",
    "                        if chke < lime[0]:\n",
    "                            continue\n",
    "                        if chke > lime[1]:\n",
    "                            print(chke)\n",
    "                            break\n",
    "                        for f in range(e,10):\n",
    "                            chkf = 10 * chke + f\n",
    "                            if chkf < limf[0]:\n",
    "                                continue\n",
    "                            if len(set([a,b,c,d,e,f])) == 6:\n",
    "                                continue\n",
    "                            if chkf > limf[1]:\n",
    "                                print(chkf)\n",
    "                                break\n",
    "                            hits.append(chkf)\n",
    "                            # print(chkf)\n",
    "    return hits\n",
    "    \n",
    "        \n",
    "hits = pd.Series(determine_passwords(), name='hits')\n",
    "display(hits.describe())\n",
    "ansp1 = len(hits)\n",
    "ansp1"
   ]
  },
  {
   "cell_type": "code",
   "execution_count": 102,
   "metadata": {},
   "outputs": [
    {
     "data": {
      "text/plain": [
       "True"
      ]
     },
     "execution_count": 102,
     "metadata": {},
     "output_type": "execute_result"
    }
   ],
   "source": [
    "actp1 = 1079\n",
    "ansp1 == actp1"
   ]
  },
  {
   "cell_type": "markdown",
   "metadata": {},
   "source": [
    "### That's the right answer! You are one gold star closer to rescuing Santa."
   ]
  },
  {
   "cell_type": "markdown",
   "metadata": {},
   "source": [
    "# Part II"
   ]
  },
  {
   "cell_type": "markdown",
   "metadata": {},
   "source": []
  },
  {
   "cell_type": "markdown",
   "metadata": {},
   "source": [
    "An Elf just remembered one more important detail: the two adjacent matching digits are not part of a larger group of matching digits.\n",
    "\n",
    "Given this additional criterion, but still ignoring the range rule, the following are now true:\n",
    "   - 112233 meets these criteria because the digits never decrease and all repeated digits are exactly two digits long.\n",
    "   - 123444 no longer meets the criteria (the repeated 44 is part of a larger group of 444).\n",
    "   - 111122 meets the criteria (even though 1 is repeated more than twice, it still contains a double 22).\n",
    "How many different passwords within the range given in your puzzle input meet all of the criteria?"
   ]
  },
  {
   "cell_type": "markdown",
   "metadata": {},
   "source": []
  },
  {
   "cell_type": "code",
   "execution_count": 92,
   "metadata": {},
   "outputs": [
    {
     "data": {
      "text/html": [
       "<div>\n",
       "<style scoped>\n",
       "    .dataframe tbody tr th:only-of-type {\n",
       "        vertical-align: middle;\n",
       "    }\n",
       "\n",
       "    .dataframe tbody tr th {\n",
       "        vertical-align: top;\n",
       "    }\n",
       "\n",
       "    .dataframe thead th {\n",
       "        text-align: right;\n",
       "    }\n",
       "</style>\n",
       "<table border=\"1\" class=\"dataframe\">\n",
       "  <thead>\n",
       "    <tr style=\"text-align: right;\">\n",
       "      <th></th>\n",
       "      <th>hits</th>\n",
       "      <th>str</th>\n",
       "      <th>dbls</th>\n",
       "      <th>trps</th>\n",
       "    </tr>\n",
       "  </thead>\n",
       "  <tbody>\n",
       "    <tr>\n",
       "      <th>0</th>\n",
       "      <td>245555</td>\n",
       "      <td>245555</td>\n",
       "      <td>1</td>\n",
       "      <td>1</td>\n",
       "    </tr>\n",
       "    <tr>\n",
       "      <th>1</th>\n",
       "      <td>245556</td>\n",
       "      <td>245556</td>\n",
       "      <td>1</td>\n",
       "      <td>1</td>\n",
       "    </tr>\n",
       "    <tr>\n",
       "      <th>2</th>\n",
       "      <td>245557</td>\n",
       "      <td>245557</td>\n",
       "      <td>1</td>\n",
       "      <td>1</td>\n",
       "    </tr>\n",
       "    <tr>\n",
       "      <th>3</th>\n",
       "      <td>245558</td>\n",
       "      <td>245558</td>\n",
       "      <td>1</td>\n",
       "      <td>1</td>\n",
       "    </tr>\n",
       "    <tr>\n",
       "      <th>4</th>\n",
       "      <td>245559</td>\n",
       "      <td>245559</td>\n",
       "      <td>1</td>\n",
       "      <td>1</td>\n",
       "    </tr>\n",
       "    <tr>\n",
       "      <th>5</th>\n",
       "      <td>245566</td>\n",
       "      <td>245566</td>\n",
       "      <td>2</td>\n",
       "      <td>0</td>\n",
       "    </tr>\n",
       "    <tr>\n",
       "      <th>6</th>\n",
       "      <td>245567</td>\n",
       "      <td>245567</td>\n",
       "      <td>1</td>\n",
       "      <td>0</td>\n",
       "    </tr>\n",
       "    <tr>\n",
       "      <th>7</th>\n",
       "      <td>245568</td>\n",
       "      <td>245568</td>\n",
       "      <td>1</td>\n",
       "      <td>0</td>\n",
       "    </tr>\n",
       "    <tr>\n",
       "      <th>8</th>\n",
       "      <td>245569</td>\n",
       "      <td>245569</td>\n",
       "      <td>1</td>\n",
       "      <td>0</td>\n",
       "    </tr>\n",
       "    <tr>\n",
       "      <th>9</th>\n",
       "      <td>245577</td>\n",
       "      <td>245577</td>\n",
       "      <td>2</td>\n",
       "      <td>0</td>\n",
       "    </tr>\n",
       "    <tr>\n",
       "      <th>10</th>\n",
       "      <td>245578</td>\n",
       "      <td>245578</td>\n",
       "      <td>1</td>\n",
       "      <td>0</td>\n",
       "    </tr>\n",
       "    <tr>\n",
       "      <th>11</th>\n",
       "      <td>245579</td>\n",
       "      <td>245579</td>\n",
       "      <td>1</td>\n",
       "      <td>0</td>\n",
       "    </tr>\n",
       "    <tr>\n",
       "      <th>12</th>\n",
       "      <td>245588</td>\n",
       "      <td>245588</td>\n",
       "      <td>2</td>\n",
       "      <td>0</td>\n",
       "    </tr>\n",
       "    <tr>\n",
       "      <th>13</th>\n",
       "      <td>245589</td>\n",
       "      <td>245589</td>\n",
       "      <td>1</td>\n",
       "      <td>0</td>\n",
       "    </tr>\n",
       "    <tr>\n",
       "      <th>14</th>\n",
       "      <td>245599</td>\n",
       "      <td>245599</td>\n",
       "      <td>2</td>\n",
       "      <td>0</td>\n",
       "    </tr>\n",
       "    <tr>\n",
       "      <th>15</th>\n",
       "      <td>245666</td>\n",
       "      <td>245666</td>\n",
       "      <td>1</td>\n",
       "      <td>1</td>\n",
       "    </tr>\n",
       "    <tr>\n",
       "      <th>16</th>\n",
       "      <td>245667</td>\n",
       "      <td>245667</td>\n",
       "      <td>1</td>\n",
       "      <td>0</td>\n",
       "    </tr>\n",
       "    <tr>\n",
       "      <th>17</th>\n",
       "      <td>245668</td>\n",
       "      <td>245668</td>\n",
       "      <td>1</td>\n",
       "      <td>0</td>\n",
       "    </tr>\n",
       "    <tr>\n",
       "      <th>18</th>\n",
       "      <td>245669</td>\n",
       "      <td>245669</td>\n",
       "      <td>1</td>\n",
       "      <td>0</td>\n",
       "    </tr>\n",
       "    <tr>\n",
       "      <th>19</th>\n",
       "      <td>245677</td>\n",
       "      <td>245677</td>\n",
       "      <td>1</td>\n",
       "      <td>0</td>\n",
       "    </tr>\n",
       "    <tr>\n",
       "      <th>20</th>\n",
       "      <td>245688</td>\n",
       "      <td>245688</td>\n",
       "      <td>1</td>\n",
       "      <td>0</td>\n",
       "    </tr>\n",
       "    <tr>\n",
       "      <th>21</th>\n",
       "      <td>245699</td>\n",
       "      <td>245699</td>\n",
       "      <td>1</td>\n",
       "      <td>0</td>\n",
       "    </tr>\n",
       "    <tr>\n",
       "      <th>22</th>\n",
       "      <td>245777</td>\n",
       "      <td>245777</td>\n",
       "      <td>1</td>\n",
       "      <td>1</td>\n",
       "    </tr>\n",
       "    <tr>\n",
       "      <th>23</th>\n",
       "      <td>245778</td>\n",
       "      <td>245778</td>\n",
       "      <td>1</td>\n",
       "      <td>0</td>\n",
       "    </tr>\n",
       "    <tr>\n",
       "      <th>24</th>\n",
       "      <td>245779</td>\n",
       "      <td>245779</td>\n",
       "      <td>1</td>\n",
       "      <td>0</td>\n",
       "    </tr>\n",
       "  </tbody>\n",
       "</table>\n",
       "</div>"
      ],
      "text/plain": [
       "      hits     str  dbls  trps\n",
       "0   245555  245555     1     1\n",
       "1   245556  245556     1     1\n",
       "2   245557  245557     1     1\n",
       "3   245558  245558     1     1\n",
       "4   245559  245559     1     1\n",
       "5   245566  245566     2     0\n",
       "6   245567  245567     1     0\n",
       "7   245568  245568     1     0\n",
       "8   245569  245569     1     0\n",
       "9   245577  245577     2     0\n",
       "10  245578  245578     1     0\n",
       "11  245579  245579     1     0\n",
       "12  245588  245588     2     0\n",
       "13  245589  245589     1     0\n",
       "14  245599  245599     2     0\n",
       "15  245666  245666     1     1\n",
       "16  245667  245667     1     0\n",
       "17  245668  245668     1     0\n",
       "18  245669  245669     1     0\n",
       "19  245677  245677     1     0\n",
       "20  245688  245688     1     0\n",
       "21  245699  245699     1     0\n",
       "22  245777  245777     1     1\n",
       "23  245778  245778     1     0\n",
       "24  245779  245779     1     0"
      ]
     },
     "execution_count": 92,
     "metadata": {},
     "output_type": "execute_result"
    }
   ],
   "source": [
    "p2df = pd.DataFrame(hits)#.rename(columns={'hits':'nbr'})\n",
    "p2df['str'] = p2df.hits.apply(lambda x: str(x))\n",
    "p2df['dbls'] = p2df.str.apply(lambda x: len(set(re.findall(r'(\\d)\\1', x))))\n",
    "p2df['trps'] = p2df.str.apply(lambda x: len(set(re.findall(r'(\\d)\\1\\1', x))))\n",
    "\n",
    "p2df.head(25)"
   ]
  },
  {
   "cell_type": "code",
   "execution_count": 99,
   "metadata": {},
   "outputs": [
    {
     "name": "stdout",
     "output_type": "stream",
     "text": [
      "<class 'str'>\n",
      "245555 {'5', '4'}\n"
     ]
    }
   ],
   "source": [
    "chk = p2df.str[0]\n",
    "print(type(chk))\n",
    "print(chk, set(re.findall(r'(\\d)\\1', '554455')))"
   ]
  },
  {
   "cell_type": "code",
   "execution_count": 105,
   "metadata": {},
   "outputs": [],
   "source": [
    "non_dups = p2df[(p2df.trps == 0) | ((p2df.trps == 1) & (p2df.dbls > 1))]\n",
    "ansp2 = len(non_dups)"
   ]
  },
  {
   "cell_type": "code",
   "execution_count": 106,
   "metadata": {},
   "outputs": [
    {
     "data": {
      "text/plain": [
       "True"
      ]
     },
     "execution_count": 106,
     "metadata": {},
     "output_type": "execute_result"
    }
   ],
   "source": [
    "actp2 = 699\n",
    "ansp2 == actp2"
   ]
  },
  {
   "cell_type": "markdown",
   "metadata": {},
   "source": [
    "### That's the right answer! You are one gold star closer to rescuing Santa."
   ]
  },
  {
   "cell_type": "code",
   "execution_count": null,
   "metadata": {},
   "outputs": [],
   "source": []
  }
 ],
 "metadata": {
  "kernelspec": {
   "display_name": "Python 3",
   "language": "python",
   "name": "python3"
  },
  "language_info": {
   "codemirror_mode": {
    "name": "ipython",
    "version": 3
   },
   "file_extension": ".py",
   "mimetype": "text/x-python",
   "name": "python",
   "nbconvert_exporter": "python",
   "pygments_lexer": "ipython3",
   "version": "3.7.3"
  }
 },
 "nbformat": 4,
 "nbformat_minor": 2
}
