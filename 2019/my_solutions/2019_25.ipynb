{
 "cells": [
  {
   "cell_type": "markdown",
   "metadata": {},
   "source": [
    "# Day 25: Cryostasis\n",
    "\n",
    "[Aoc Site](https://adventofcode.com/2019/day/25)"
   ]
  },
  {
   "cell_type": "markdown",
   "metadata": {},
   "source": [
    "## Part I"
   ]
  },
  {
   "cell_type": "markdown",
   "metadata": {},
   "source": [
    "<p>As you approach Santa's ship, your sensors report two important details:</p>\n",
    "<p>First, that you might be too late: the internal temperature is <span title=\"This is the same in Fahrenheit and Celsius.\"><code>-40</code> degrees</span>.</p>\n",
    "<p>Second, that one faint life signature is somewhere on the ship.</p>\n",
    "<p>The airlock door is locked with a code; your best option is to send in a small droid to investigate the situation.  You attach your ship to Santa's, break a small hole in the hull, and let the droid run in before you seal it up again. Before your ship starts freezing, you detach your ship and set it to automatically stay within range of Santa's ship.</p>\n",
    "<p>This droid can follow basic instructions and report on its surroundings; you can communicate with it through an <a href=\"9\">Intcode</a> program (your puzzle input) running on an <a href=\"17\">ASCII-capable</a> computer.</p>\n",
    "<p>As the droid moves through its environment, it will describe what it encounters.  When it says <code>Command?</code>, you can give it a single instruction terminated with a newline (ASCII code <code>10</code>). Possible instructions are:</p>\n",
    "<ul>\n",
    "<li><em>Movement</em> via <code>north</code>, <code>south</code>, <code>east</code>, or <code>west</code>.</li>\n",
    "<li>To <em>take</em> an item the droid sees in the environment, use the command <code>take &lt;name of item&gt;</code>. For example, if the droid reports seeing a <code>red ball</code>, you can pick it up with <code>take red ball</code>.</li>\n",
    "<li>To <em>drop</em> an item the droid is carrying, use the command <code>drop &lt;name of item&gt;</code>. For example, if the droid is carrying a <code>green ball</code>, you can drop it with <code>drop green ball</code>.</li>\n",
    "<li>To get a <em>list of all of the items</em> the droid is currently carrying, use the command <code>inv</code> (for \"inventory\").</li>\n",
    "</ul>\n",
    "<p>Extra spaces or other characters aren't allowed - instructions must be provided precisely.</p>\n",
    "<p>Santa's ship is a <em>Reindeer-class starship</em>; these ships use pressure-sensitive floors to determine the identity of droids and crew members.  The standard configuration for these starships is for all droids to weigh exactly the same amount to make them easier to detect.  If you need to get past such a sensor, you might be able to reach the correct weight by carrying items from the environment.</p>\n",
    "<p>Look around the ship and see if you can find the <em>password for the main airlock</em>.</p>"
   ]
  },
  {
   "cell_type": "markdown",
   "metadata": {},
   "source": [
    "To begin, get your [puzzle input](https://adventofcode.com/2019/day/25/input)."
   ]
  },
  {
   "cell_type": "code",
   "execution_count": 34,
   "metadata": {},
   "outputs": [],
   "source": [
    "# Prep Notebook\n",
    "# import pandas as pd\n",
    "# import numpy as np\n",
    "\n",
    "import disfunctions as func"
   ]
  },
  {
   "cell_type": "code",
   "execution_count": null,
   "metadata": {},
   "outputs": [],
   "source": [
    "ansp1 = 99999"
   ]
  },
  {
   "cell_type": "code",
   "execution_count": null,
   "metadata": {},
   "outputs": [],
   "source": [
    "actp1 = 99999\n",
    "ansp1 == actp1"
   ]
  },
  {
   "cell_type": "markdown",
   "metadata": {},
   "source": [
    "### PART1STATUS"
   ]
  },
  {
   "cell_type": "markdown",
   "metadata": {},
   "source": [
    "# Part II"
   ]
  },
  {
   "cell_type": "markdown",
   "metadata": {},
   "source": [
    "PART2TEXT"
   ]
  },
  {
   "cell_type": "code",
   "execution_count": null,
   "metadata": {},
   "outputs": [],
   "source": [
    "ansp2 = 99999"
   ]
  },
  {
   "cell_type": "code",
   "execution_count": null,
   "metadata": {},
   "outputs": [],
   "source": [
    "actp2 = 99999\n",
    "ansp2 == actp2"
   ]
  },
  {
   "cell_type": "markdown",
   "metadata": {},
   "source": [
    "### PART2RESPONSE"
   ]
  }
 ],
 "metadata": {
  "kernelspec": {
   "display_name": "Python 3",
   "language": "python",
   "name": "python3"
  },
  "language_info": {
   "codemirror_mode": {
    "name": "ipython",
    "version": 3
   },
   "file_extension": ".py",
   "mimetype": "text/x-python",
   "name": "python",
   "nbconvert_exporter": "python",
   "pygments_lexer": "ipython3",
   "version": "3.7.3"
  }
 },
 "nbformat": 4,
 "nbformat_minor": 2
}
