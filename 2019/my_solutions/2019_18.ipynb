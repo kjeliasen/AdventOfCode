{
 "cells": [
  {
   "cell_type": "markdown",
   "metadata": {},
   "source": [
    "# Day 18: Many-Worlds Interpretation\n",
    "\n",
    "[Aoc Site](https://adventofcode.com/2019/day/18)"
   ]
  },
  {
   "cell_type": "markdown",
   "metadata": {},
   "source": [
    "## Part I"
   ]
  },
  {
   "cell_type": "markdown",
   "metadata": {},
   "source": [
    "<p>As you approach Neptune, a planetary security system detects you and activates a giant <a href=\"https://en.wikipedia.org/wiki/Tractor_beam\">tractor beam</a> on <a href=\"https://en.wikipedia.org/wiki/Triton_(moon)\">Triton</a>!  You have no choice but to land.</p>\n",
    "<p>A scan of the local area reveals only one interesting feature: a massive underground vault.  You generate a map of the tunnels (your puzzle input).  The tunnels are too narrow to move diagonally.</p>\n",
    "<p>Only one <em>entrance</em> (marked <code>@</code>) is present among the <em>open passages</em> (marked <code>.</code>) and <em>stone walls</em> (<code>#</code>), but you also detect an assortment of <em>keys</em> (shown as lowercase letters) and <em>doors</em> (shown as uppercase letters). Keys of a given letter open the door of the same letter: <code>a</code> opens <code>A</code>, <code>b</code> opens <code>B</code>, and so on.  You aren't sure which key you need to disable the tractor beam, so you'll need to <em>collect all of them</em>.</p>\n",
    "<p>For example, suppose you have the following map:</p>\n",
    "<pre><code>#########\n",
    "#b.A.@.a#\n",
    "#########\n",
    "</code></pre>\n",
    "<p>Starting from the entrance (<code>@</code>), you can only access a large door (<code>A</code>) and a key (<code>a</code>). Moving toward the door doesn't help you, but you can move <code>2</code> steps to collect the key, unlocking <code>A</code> in the process:</p>\n",
    "<pre><code>#########\n",
    "#b.....@#\n",
    "#########\n",
    "</code></pre>\n",
    "<p>Then, you can move <code>6</code> steps to collect the only other key, <code>b</code>:</p>\n",
    "<pre><code>#########\n",
    "#@......#\n",
    "#########\n",
    "</code></pre>\n",
    "<p>So, collecting every key took a total of <code><em>8</em></code> steps.</p>\n",
    "<p>Here is a larger example:</p>\n",
    "<pre><code>########################\n",
    "#f.D.E.e.C.b.A.@.a.B.c.#\n",
    "######################.#\n",
    "#d.....................#\n",
    "########################\n",
    "</code></pre>\n",
    "<p>The only reasonable move is to take key <code>a</code> and unlock door <code>A</code>:</p>\n",
    "<pre><code>########################\n",
    "#f.D.E.e.C.b.....@.B.c.#\n",
    "######################.#\n",
    "#d.....................#\n",
    "########################\n",
    "</code></pre>\n",
    "<p>Then, do the same with key <code>b</code>:</p>\n",
    "<pre><code>########################\n",
    "#f.D.E.e.C.@.........c.#\n",
    "######################.#\n",
    "#d.....................#\n",
    "########################\n",
    "</code></pre>\n",
    "<p>...and the same with key <code>c</code>:</p>\n",
    "<pre><code>########################\n",
    "#f.D.E.e.............@.#\n",
    "######################.#\n",
    "#d.....................#\n",
    "########################\n",
    "</code></pre>\n",
    "<p>Now, you have a choice between keys <code>d</code> and <code>e</code>.  While key <code>e</code> is closer, collecting it now would be slower in the long run than collecting key <code>d</code> first, so that's the best choice:</p>\n",
    "<pre><code>########################\n",
    "#f...E.e...............#\n",
    "######################.#\n",
    "#@.....................#\n",
    "########################\n",
    "</code></pre>\n",
    "<p>Finally, collect key <code>e</code> to unlock door <code>E</code>, then collect key <code>f</code>, taking a grand total of <code><em>86</em></code> steps.</p>\n",
    "<p>Here are a few more examples:</p>\n",
    "<ul>\n",
    "<li><pre><code>########################\n",
    "#...............b.C.D.f#\n",
    "#.######################\n",
    "#.....@.a.B.c.d.A.e.F.g#\n",
    "########################\n",
    "</code></pre>\n",
    "<p>Shortest path is <code>132</code> steps: <code>b</code>, <code>a</code>, <code>c</code>, <code>d</code>, <code>f</code>, <code>e</code>, <code>g</code></p></li>\n",
    "<li><pre><code>#################\n",
    "#i.G..c...e..H.p#\n",
    "########.########\n",
    "#j.A..b...f..D.o#\n",
    "########@########\n",
    "#k.E..a...g..B.n#\n",
    "########.########\n",
    "#l.F..d...h..C.m#\n",
    "#################\n",
    "</code></pre>\n",
    "<p>Shortest paths are <code>136</code> steps;<br/>one is: <code>a</code>, <code>f</code>, <code>b</code>, <code>j</code>, <code>g</code>, <code>n</code>, <code>h</code>, <code>d</code>, <code>l</code>, <code>o</code>, <code>e</code>, <code>p</code>, <code>c</code>, <code>i</code>, <code>k</code>, <code>m</code></p></li>\n",
    "<li><pre><code>########################\n",
    "#@..............ac.GI.b#\n",
    "###d#e#f################\n",
    "###A#B#C################\n",
    "###g#h#i################\n",
    "########################\n",
    "</code></pre>\n",
    "<p>Shortest paths are <code>81</code> steps; one is: <code>a</code>, <code>c</code>, <code>f</code>, <code>i</code>, <code>d</code>, <code>g</code>, <code>b</code>, <code>e</code>, <code>h</code></p></li>\n",
    "</ul>\n",
    "<p><em>How many steps is the shortest path that collects all of the keys?</em></p>"
   ]
  },
  {
   "cell_type": "markdown",
   "metadata": {},
   "source": [
    "To begin, get your [puzzle input](https://adventofcode.com/2019/day/18/input)."
   ]
  },
  {
   "cell_type": "code",
   "execution_count": 34,
   "metadata": {},
   "outputs": [],
   "source": [
    "# Prep Notebook\n",
    "# import pandas as pd\n",
    "# import numpy as np\n",
    "\n",
    "import disfunctions as func"
   ]
  },
  {
   "cell_type": "code",
   "execution_count": null,
   "metadata": {},
   "outputs": [],
   "source": [
    "ansp1 = 99999"
   ]
  },
  {
   "cell_type": "code",
   "execution_count": null,
   "metadata": {},
   "outputs": [],
   "source": [
    "actp1 = 99999\n",
    "ansp1 == actp1"
   ]
  },
  {
   "cell_type": "markdown",
   "metadata": {},
   "source": [
    "### PART1STATUS"
   ]
  },
  {
   "cell_type": "markdown",
   "metadata": {},
   "source": [
    "# Part II"
   ]
  },
  {
   "cell_type": "markdown",
   "metadata": {},
   "source": [
    "PART2TEXT"
   ]
  },
  {
   "cell_type": "code",
   "execution_count": null,
   "metadata": {},
   "outputs": [],
   "source": [
    "ansp2 = 99999"
   ]
  },
  {
   "cell_type": "code",
   "execution_count": null,
   "metadata": {},
   "outputs": [],
   "source": [
    "actp2 = 99999\n",
    "ansp2 == actp2"
   ]
  },
  {
   "cell_type": "markdown",
   "metadata": {},
   "source": [
    "### PART2RESPONSE"
   ]
  }
 ],
 "metadata": {
  "kernelspec": {
   "display_name": "Python 3",
   "language": "python",
   "name": "python3"
  },
  "language_info": {
   "codemirror_mode": {
    "name": "ipython",
    "version": 3
   },
   "file_extension": ".py",
   "mimetype": "text/x-python",
   "name": "python",
   "nbconvert_exporter": "python",
   "pygments_lexer": "ipython3",
   "version": "3.7.3"
  }
 },
 "nbformat": 4,
 "nbformat_minor": 2
}
