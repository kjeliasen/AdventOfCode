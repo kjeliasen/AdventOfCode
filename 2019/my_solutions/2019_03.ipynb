{
 "cells": [
  {
   "cell_type": "markdown",
   "metadata": {},
   "source": [
    "# Day 3: Crossed Wires\n",
    "\n",
    "[Aoc Site](https://adventofcode.com/2019/day/3)"
   ]
  },
  {
   "cell_type": "markdown",
   "metadata": {},
   "source": [
    "## Part I"
   ]
  },
  {
   "cell_type": "markdown",
   "metadata": {},
   "source": [
    "The gravity assist was successful, and you're well on your way to the Venus refuelling station. During the rush back on Earth, the fuel management system wasn't completely installed, so that's next on the priority list.\n",
    "\n",
    "Opening the front panel reveals a jumble of wires. Specifically, two wires are connected to a central port and extend outward on a grid. You trace the path each wire takes as it leaves the central port, one wire per line of text (your puzzle input).\n",
    "\n",
    "The wires twist and turn, but the two wires occasionally cross paths. To fix the circuit, you need to find the intersection point closest to the central port. Because the wires are on a grid, use the Manhattan distance for this measurement. While the wires do technically cross right at the central port where they both start, this point does not count, nor does a wire count as crossing with itself."
   ]
  },
  {
   "cell_type": "markdown",
   "metadata": {},
   "source": [
    "For example, if the first wire's path is **R8,U5,L5,D3**, then starting from the central port (o), it goes right 8, up 5, left 5, and finally down 3:\n",
    "\n",
    "<pre>...........\n",
    "...........\n",
    "...........\n",
    "....+----+.\n",
    "....|....|.\n",
    "....|....|.\n",
    "....|....|.\n",
    ".........|.\n",
    ".o-------+.\n",
    "...........</pre>\n",
    "\n",
    "Then, if the second wire's path is **U7,R6,D4,L4**, it goes up 7, right 6, down 4, and left 4:\n",
    "\n",
    "<pre>...........\n",
    ".+-----+...\n",
    ".|.....|...\n",
    ".|..+--X-+.\n",
    ".|..|..|.|.\n",
    ".|.-X--+.|.\n",
    ".|..|....|.\n",
    ".|.......|.\n",
    ".o-------+.\n",
    "...........</pre>\n",
    "\n",
    "These wires cross at two locations (marked X), but the lower-left one is closer to the central port: its distance is 3 + 3 = 6."
   ]
  },
  {
   "cell_type": "markdown",
   "metadata": {},
   "source": [
    "Here are a few more examples:\n",
    "\n",
    "**R75,D30,R83,U83,L12,D49,R71,U7,L72**<br>\n",
    "**U62,R66,U55,R34,D71,R55,D58,R83** = distance 159\n",
    "\n",
    "**R98,U47,R26,D63,R33,U87,L62,D20,R33,U53,R51**<br>\n",
    "**U98,R91,D20,R16,D67,R40,U7,R15,U6,R7** = distance 135"
   ]
  },
  {
   "cell_type": "markdown",
   "metadata": {},
   "source": [
    "What is the Manhattan distance from the central port to the closest intersection?\n",
    "\n",
    "To begin, [get your puzzle input](https://adventofcode.com/2019/day/3/input)."
   ]
  },
  {
   "cell_type": "code",
   "execution_count": 1,
   "metadata": {},
   "outputs": [],
   "source": [
    "# Prep Notebook\n",
    "import pandas as pd\n",
    "import numpy as np\n",
    "\n",
    "import disfunctions as func"
   ]
  },
  {
   "cell_type": "code",
   "execution_count": 5,
   "metadata": {},
   "outputs": [
    {
     "data": {
      "text/html": [
       "<div>\n",
       "<style scoped>\n",
       "    .dataframe tbody tr th:only-of-type {\n",
       "        vertical-align: middle;\n",
       "    }\n",
       "\n",
       "    .dataframe tbody tr th {\n",
       "        vertical-align: top;\n",
       "    }\n",
       "\n",
       "    .dataframe thead th {\n",
       "        text-align: right;\n",
       "    }\n",
       "</style>\n",
       "<table border=\"1\" class=\"dataframe\">\n",
       "  <thead>\n",
       "    <tr style=\"text-align: right;\">\n",
       "      <th></th>\n",
       "      <th>input1</th>\n",
       "      <th>input1</th>\n",
       "      <th>target_p1</th>\n",
       "    </tr>\n",
       "  </thead>\n",
       "  <tbody>\n",
       "    <tr>\n",
       "      <th>0</th>\n",
       "      <td>[R75, D30, R83, U83, L12, D49, R71, U7, L72]</td>\n",
       "      <td>[U62, R66, U55, R34, D71, R55, D58, R83]</td>\n",
       "      <td>159</td>\n",
       "    </tr>\n",
       "    <tr>\n",
       "      <th>1</th>\n",
       "      <td>[R98, U47, R26, D63, R33, U87, L62, D20, R33, ...</td>\n",
       "      <td>[U98, R91, D20, R16, D67, R40, U7, R15, U6, R7]</td>\n",
       "      <td>135</td>\n",
       "    </tr>\n",
       "  </tbody>\n",
       "</table>\n",
       "</div>"
      ],
      "text/plain": [
       "                                              input1  \\\n",
       "0       [R75, D30, R83, U83, L12, D49, R71, U7, L72]   \n",
       "1  [R98, U47, R26, D63, R33, U87, L62, D20, R33, ...   \n",
       "\n",
       "                                            input1 target_p1  \n",
       "0         [U62, R66, U55, R34, D71, R55, D58, R83]       159  \n",
       "1  [U98, R91, D20, R16, D67, R40, U7, R15, U6, R7]       135  "
      ]
     },
     "execution_count": 5,
     "metadata": {},
     "output_type": "execute_result"
    }
   ],
   "source": [
    "# Create test DataFrame\n",
    "input1_col = 'input1'\n",
    "input2_col = 'input2'\n",
    "target1_col = 'target_p1'\n",
    "output1_col = 'output_p1'\n",
    "\n",
    "input1_s = pd.Series([['R75','D30','R83','U83','L12','D49','R71','U7','L72'], ['R98','U47','R26','D63','R33','U87','L62','D20','R33','U53','R51']], name=input1_col)\n",
    "input2_s = pd.Series([['U62','R66','U55','R34','D71','R55','D58','R83'], ['U98','R91','D20','R16','D67','R40','U7','R15','U6','R7']], name=input1_col)\n",
    "target1_s = pd.Series([159, 135], name=target1_col)\n",
    "\n",
    "test_df = pd.DataFrame([input1_s, input2_s, target1_s]).T\n",
    "\n",
    "test_df"
   ]
  },
  {
   "cell_type": "code",
   "execution_count": null,
   "metadata": {},
   "outputs": [],
   "source": [
    "# Functionize movement\n",
    "\n",
    "def move_along(move, begx, begy):\n",
    "    "
   ]
  },
  {
   "cell_type": "code",
   "execution_count": null,
   "metadata": {},
   "outputs": [],
   "source": []
  },
  {
   "cell_type": "code",
   "execution_count": null,
   "metadata": {},
   "outputs": [],
   "source": []
  },
  {
   "cell_type": "code",
   "execution_count": null,
   "metadata": {},
   "outputs": [],
   "source": []
  },
  {
   "cell_type": "code",
   "execution_count": null,
   "metadata": {},
   "outputs": [],
   "source": []
  },
  {
   "cell_type": "markdown",
   "metadata": {},
   "source": []
  },
  {
   "cell_type": "markdown",
   "metadata": {},
   "source": []
  },
  {
   "cell_type": "markdown",
   "metadata": {},
   "source": []
  },
  {
   "cell_type": "markdown",
   "metadata": {},
   "source": []
  },
  {
   "cell_type": "markdown",
   "metadata": {},
   "source": []
  }
 ],
 "metadata": {
  "kernelspec": {
   "display_name": "Python 3",
   "language": "python",
   "name": "python3"
  },
  "language_info": {
   "codemirror_mode": {
    "name": "ipython",
    "version": 3
   },
   "file_extension": ".py",
   "mimetype": "text/x-python",
   "name": "python",
   "nbconvert_exporter": "python",
   "pygments_lexer": "ipython3",
   "version": "3.7.3"
  }
 },
 "nbformat": 4,
 "nbformat_minor": 2
}
