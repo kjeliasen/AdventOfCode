{
 "cells": [
  {
   "cell_type": "markdown",
   "metadata": {},
   "source": [
    "# Day 22: Slam Shuffle\n",
    "\n",
    "[Aoc Site](https://adventofcode.com/2019/day/22)"
   ]
  },
  {
   "cell_type": "markdown",
   "metadata": {},
   "source": [
    "## Part I"
   ]
  },
  {
   "cell_type": "markdown",
   "metadata": {},
   "source": [
    "<p>There isn't much to do while you wait for the droids to repair your ship.  At least you're drifting in the right direction.  You decide to practice a new <a href=\"https://en.wikipedia.org/wiki/Shuffling\">card shuffle</a> you've been working on.</p>\n",
    "<p>Digging through the ship's storage, you find a deck of <em>space cards</em>! Just like <span title=\"What do you mean, you've never heard of space cards? They're all the rage in Zozo.\">any deck of space cards</span>, there are 10007 cards in the deck numbered <code>0</code> through <code>10006</code>. The deck must be new - they're still in <em>factory order</em>, with <code>0</code> on the top, then <code>1</code>, then <code>2</code>, and so on, all the way through to <code>10006</code> on the bottom.</p>\n",
    "<p>You've been practicing three different <em>techniques</em> that you use while shuffling. Suppose you have a deck of only 10 cards (numbered <code>0</code> through <code>9</code>):</p>\n",
    "<p><em>To <code>deal into new stack</code></em>, create a new stack of cards by dealing the top card of the deck onto the top of the new stack repeatedly until you run out of cards:</p>\n",
    "<pre><code>Top          Bottom\n",
    "0 1 2 3 4 5 6 7 8 9   Your deck\n",
    "                      New stack\n",
    "\n",
    "  1 2 3 4 5 6 7 8 9   Your deck\n",
    "                  0   New stack\n",
    "\n",
    "    2 3 4 5 6 7 8 9   Your deck\n",
    "                1 0   New stack\n",
    "\n",
    "      3 4 5 6 7 8 9   Your deck\n",
    "              2 1 0   New stack\n",
    "\n",
    "Several steps later...\n",
    "\n",
    "                  9   Your deck\n",
    "  8 7 6 5 4 3 2 1 0   New stack\n",
    "\n",
    "                      Your deck\n",
    "9 8 7 6 5 4 3 2 1 0   New stack\n",
    "</code></pre>\n",
    "<p>Finally, pick up the new stack you've just created and use it as the deck for the next technique.</p>\n",
    "<p><em>To <code>cut N</code> cards</em>, take the top <code>N</code> cards off the top of the deck and move them as a single unit to the bottom of the deck, retaining their order. For example, to <code>cut 3</code>:</p>\n",
    "<pre><code>Top          Bottom\n",
    "0 1 2 3 4 5 6 7 8 9   Your deck\n",
    "\n",
    "      3 4 5 6 7 8 9   Your deck\n",
    "0 1 2                 Cut cards\n",
    "\n",
    "3 4 5 6 7 8 9         Your deck\n",
    "              0 1 2   Cut cards\n",
    "\n",
    "3 4 5 6 7 8 9 0 1 2   Your deck\n",
    "</code></pre>\n",
    "<p>You've also been getting pretty good at a version of this technique where <code>N</code> is negative! In that case, cut (the absolute value of) <code>N</code> cards from the bottom of the deck onto the top.  For example, to <code>cut -4</code>:</p>\n",
    "<pre><code>Top          Bottom\n",
    "0 1 2 3 4 5 6 7 8 9   Your deck\n",
    "\n",
    "0 1 2 3 4 5           Your deck\n",
    "            6 7 8 9   Cut cards\n",
    "\n",
    "        0 1 2 3 4 5   Your deck\n",
    "6 7 8 9               Cut cards\n",
    "\n",
    "6 7 8 9 0 1 2 3 4 5   Your deck\n",
    "</code></pre>\n",
    "<p><em>To <code>deal with increment N</code></em>, start by clearing enough space on your table to lay out all of the cards individually in a long line.  Deal the top card into the leftmost position. Then, move <code>N</code> positions to the right and deal the next card there. If you would move into a position past the end of the space on your table, wrap around and keep counting from the leftmost card again.  Continue this process until you run out of cards.</p>\n",
    "<p>For example, to <code>deal with increment 3</code>:</p>\n",
    "<pre><code>\n",
    "0 1 2 3 4 5 6 7 8 9   Your deck\n",
    ". . . . . . . . . .   Space on table\n",
    "^                     Current position\n",
    "\n",
    "Deal the top card to the current position:\n",
    "\n",
    "  1 2 3 4 5 6 7 8 9   Your deck\n",
    "0 . . . . . . . . .   Space on table\n",
    "^                     Current position\n",
    "\n",
    "Move the current position right 3:\n",
    "\n",
    "  1 2 3 4 5 6 7 8 9   Your deck\n",
    "0 . . . . . . . . .   Space on table\n",
    "      ^               Current position\n",
    "\n",
    "Deal the top card:\n",
    "\n",
    "    2 3 4 5 6 7 8 9   Your deck\n",
    "0 . . 1 . . . . . .   Space on table\n",
    "      ^               Current position\n",
    "\n",
    "Move right 3 and deal:\n",
    "\n",
    "      3 4 5 6 7 8 9   Your deck\n",
    "0 . . 1 . . 2 . . .   Space on table\n",
    "            ^         Current position\n",
    "\n",
    "Move right 3 and deal:\n",
    "\n",
    "        4 5 6 7 8 9   Your deck\n",
    "0 . . 1 . . 2 . . 3   Space on table\n",
    "                  ^   Current position\n",
    "\n",
    "Move right 3, wrapping around, and deal:\n",
    "\n",
    "          5 6 7 8 9   Your deck\n",
    "0 . 4 1 . . 2 . . 3   Space on table\n",
    "    ^                 Current position\n",
    "\n",
    "And so on:\n",
    "\n",
    "0 7 4 1 8 5 2 9 6 3   Space on table\n",
    "</code></pre>\n",
    "<p>Positions on the table which already contain cards are still counted; they're not skipped.  Of course, this technique is carefully designed so it will never put two cards in the same position or leave a position empty.</p>\n",
    "<p>Finally, collect the cards on the table so that the leftmost card ends up at the top of your deck, the card to its right ends up just below the top card, and so on, until the rightmost card ends up at the bottom of the deck.</p>\n",
    "<p>The complete shuffle process (your puzzle input) consists of applying many of these techniques.  Here are some examples that combine techniques; they all start with a <em>factory order</em> deck of 10 cards:</p>\n",
    "<pre><code>deal with increment 7\n",
    "deal into new stack\n",
    "deal into new stack\n",
    "Result: 0 3 6 9 2 5 8 1 4 7\n",
    "</code></pre>\n",
    "<pre><code>cut 6\n",
    "deal with increment 7\n",
    "deal into new stack\n",
    "Result: 3 0 7 4 1 8 5 2 9 6\n",
    "</code></pre>\n",
    "<pre><code>deal with increment 7\n",
    "deal with increment 9\n",
    "cut -2\n",
    "Result: 6 3 0 7 4 1 8 5 2 9\n",
    "</code></pre>\n",
    "<pre><code>deal into new stack\n",
    "cut -2\n",
    "deal with increment 7\n",
    "cut 8\n",
    "cut -4\n",
    "deal with increment 7\n",
    "cut 3\n",
    "deal with increment 9\n",
    "deal with increment 3\n",
    "cut -1\n",
    "Result: 9 2 5 8 1 4 7 0 3 6\n",
    "</code></pre>\n",
    "<p>Positions within the deck count from <code>0</code> at the top, then <code>1</code> for the card immediately below the top card, and so on to the bottom.  (That is, cards start in the position matching their number.)</p>\n",
    "<p>After shuffling your <em>factory order</em> deck of 10007 cards, <em>what is the position of card <code>2019</code>?</em></p>"
   ]
  },
  {
   "cell_type": "markdown",
   "metadata": {},
   "source": [
    "To begin, get your [puzzle input](https://adventofcode.com/2019/day/22/input)."
   ]
  },
  {
   "cell_type": "code",
   "execution_count": 34,
   "metadata": {},
   "outputs": [],
   "source": [
    "# Prep Notebook\n",
    "# import pandas as pd\n",
    "# import numpy as np\n",
    "\n",
    "import disfunctions as func"
   ]
  },
  {
   "cell_type": "code",
   "execution_count": null,
   "metadata": {},
   "outputs": [],
   "source": [
    "ansp1 = 99999"
   ]
  },
  {
   "cell_type": "code",
   "execution_count": null,
   "metadata": {},
   "outputs": [],
   "source": [
    "actp1 = 99999\n",
    "ansp1 == actp1"
   ]
  },
  {
   "cell_type": "markdown",
   "metadata": {},
   "source": [
    "### PART1STATUS"
   ]
  },
  {
   "cell_type": "markdown",
   "metadata": {},
   "source": [
    "# Part II"
   ]
  },
  {
   "cell_type": "markdown",
   "metadata": {},
   "source": [
    "PART2TEXT"
   ]
  },
  {
   "cell_type": "code",
   "execution_count": null,
   "metadata": {},
   "outputs": [],
   "source": [
    "ansp2 = 99999"
   ]
  },
  {
   "cell_type": "code",
   "execution_count": null,
   "metadata": {},
   "outputs": [],
   "source": [
    "actp2 = 99999\n",
    "ansp2 == actp2"
   ]
  },
  {
   "cell_type": "markdown",
   "metadata": {},
   "source": [
    "### PART2RESPONSE"
   ]
  }
 ],
 "metadata": {
  "kernelspec": {
   "display_name": "Python 3",
   "language": "python",
   "name": "python3"
  },
  "language_info": {
   "codemirror_mode": {
    "name": "ipython",
    "version": 3
   },
   "file_extension": ".py",
   "mimetype": "text/x-python",
   "name": "python",
   "nbconvert_exporter": "python",
   "pygments_lexer": "ipython3",
   "version": "3.7.3"
  }
 },
 "nbformat": 4,
 "nbformat_minor": 2
}
