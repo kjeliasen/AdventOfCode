{
 "cells": [
  {
   "cell_type": "markdown",
   "metadata": {},
   "source": [
    "# Day 2: 1202 Program Alarm\n",
    "\n",
    "[Aoc Site](https://adventofcode.com/2019/day/2)"
   ]
  },
  {
   "cell_type": "markdown",
   "metadata": {},
   "source": [
    "## Part I"
   ]
  },
  {
   "cell_type": "markdown",
   "metadata": {},
   "source": [
    "On the way to your gravity assist around the Moon, your ship computer beeps angrily about a \"1202 program alarm\". On the radio, an Elf is already explaining how to handle the situation: \"Don't worry, that's perfectly norma--\" The ship computer bursts into flames.\n",
    "\n",
    "You notify the Elves that the computer's magic smoke seems to have escaped. \"That computer ran Intcode programs like the gravity assist program it was working on; surely there are enough spare parts up there to build a new Intcode computer!\""
   ]
  },
  {
   "cell_type": "markdown",
   "metadata": {},
   "source": [
    "An Intcode program is a list of integers separated by commas (like 1,0,0,3,99). To run one, start by looking at the first integer (called position 0). Here, you will find an opcode - either 1, 2, or 99. The opcode indicates what to do; for example, 99 means that the program is finished and should immediately halt. Encountering an unknown opcode means something went wrong."
   ]
  },
  {
   "cell_type": "markdown",
   "metadata": {},
   "source": [
    "**Opcode 1** adds together numbers read from two positions and stores the result in a third position. The three integers immediately after the opcode tell you these three positions - the first two indicate the positions from which you should read the input values, and the third indicates the position at which the output should be stored.\n",
    "\n",
    "For example, if your Intcode computer encounters 1,10,20,30, it should read the values at positions 10 and 20, add those values, and then overwrite the value at position 30 with their sum."
   ]
  },
  {
   "cell_type": "markdown",
   "metadata": {},
   "source": [
    "**Opcode 2** works exactly like opcode 1, except it multiplies the two inputs instead of adding them. Again, the three integers after the opcode indicate where the inputs and outputs are, not their values."
   ]
  },
  {
   "cell_type": "markdown",
   "metadata": {},
   "source": [
    "**Once you're done processing an opcode, move to the next one by stepping forward 4 positions.**"
   ]
  },
  {
   "cell_type": "markdown",
   "metadata": {},
   "source": [
    "For example, suppose you have the following program:\n",
    "\n",
    "**1,9,10,3,2,3,11,0,99,30,40,50**\n",
    "\n",
    "For the purposes of illustration, here is the same program split into multiple lines:\n",
    "\n",
    "- **1,9,10,3,**\n",
    "- **2,3,11,0,**\n",
    "- **99,**\n",
    "- **30,40,50**\n",
    "\n",
    "The first four integers, **1,9,10,3,** are at positions 0, 1, 2, and 3. Together, they represent the first opcode (1, addition), the positions of the two inputs (9 and 10), and the position of the output (3). To handle this opcode, you first need to get the values at the input positions: position 9 contains 30, and position 10 contains 40. Add these numbers together to get 70. Then, store this value at the output position; here, the output position (3) is at position 3, so it overwrites itself. Afterward, the program looks like this:\n",
    "\n",
    "- **1,9,10,70,**\n",
    "- **2,3,11,0,**\n",
    "- **99,**\n",
    "- **30,40,50**\n",
    "\n",
    "Step forward 4 positions to reach the next opcode, 2. This opcode works just like the previous, but it multiplies instead of adding. The inputs are at positions 3 and 11; these positions contain 70 and 50 respectively. Multiplying these produces 3500; this is stored at position 0:\n",
    "\n",
    "- **3500,9,10,70,**\n",
    "- **2,3,11,0,**\n",
    "- **99,**\n",
    "- **30,40,50**\n",
    "\n",
    "Stepping forward 4 more positions arrives at opcode 99, halting the program."
   ]
  },
  {
   "cell_type": "markdown",
   "metadata": {},
   "source": [
    "Here are the initial and final states of a few more small programs:\n",
    "\n",
    "- **1,0,0,0,99** becomes **2,0,0,0,99** (1 + 1 = 2).\n",
    "- **2,3,0,3,99** becomes **2,3,0,6,99** (3 * 2 = 6).\n",
    "- **2,4,4,5,99,0** becomes **2,4,4,5,99,9801** (99 * 99 = 9801).\n",
    "- **1,1,1,4,99,5,6,0,99** becomes **30,1,1,4,2,5,6,0,99**."
   ]
  },
  {
   "cell_type": "markdown",
   "metadata": {},
   "source": [
    "#### Once you have a working computer, the first step is to restore the gravity assist program (your puzzle input) to the \"1202 program alarm\" state it had just before the last computer caught fire. To do this, before running the program, replace position 1 with the value 12 and replace position 2 with the value 2. What value is left at position 0 after the program halts?"
   ]
  },
  {
   "cell_type": "markdown",
   "metadata": {},
   "source": [
    "To begin, [get your puzzle input](https://adventofcode.com/2019/day/2/input)."
   ]
  },
  {
   "cell_type": "code",
   "execution_count": 1,
   "metadata": {},
   "outputs": [],
   "source": [
    "# Prep Notebook\n",
    "import pandas as pd\n",
    "import numpy as np\n",
    "\n",
    "import disfunctions as func"
   ]
  },
  {
   "cell_type": "code",
   "execution_count": 2,
   "metadata": {},
   "outputs": [
    {
     "data": {
      "text/html": [
       "<div>\n",
       "<style scoped>\n",
       "    .dataframe tbody tr th:only-of-type {\n",
       "        vertical-align: middle;\n",
       "    }\n",
       "\n",
       "    .dataframe tbody tr th {\n",
       "        vertical-align: top;\n",
       "    }\n",
       "\n",
       "    .dataframe thead th {\n",
       "        text-align: right;\n",
       "    }\n",
       "</style>\n",
       "<table border=\"1\" class=\"dataframe\">\n",
       "  <thead>\n",
       "    <tr style=\"text-align: right;\">\n",
       "      <th></th>\n",
       "      <th>input</th>\n",
       "      <th>target_p1</th>\n",
       "    </tr>\n",
       "  </thead>\n",
       "  <tbody>\n",
       "    <tr>\n",
       "      <th>0</th>\n",
       "      <td>[1, 0, 0, 0, 99]</td>\n",
       "      <td>[2, 0, 0, 0, 99]</td>\n",
       "    </tr>\n",
       "    <tr>\n",
       "      <th>1</th>\n",
       "      <td>[2, 3, 0, 3, 99]</td>\n",
       "      <td>[2, 3, 0, 6, 99]</td>\n",
       "    </tr>\n",
       "    <tr>\n",
       "      <th>2</th>\n",
       "      <td>[2, 4, 4, 5, 99, 0]</td>\n",
       "      <td>[2, 4, 4, 5, 99, 9801]</td>\n",
       "    </tr>\n",
       "    <tr>\n",
       "      <th>3</th>\n",
       "      <td>[1, 1, 1, 4, 99, 5, 6, 0, 99]</td>\n",
       "      <td>[30, 1, 1, 4, 2, 5, 6, 0, 99]</td>\n",
       "    </tr>\n",
       "  </tbody>\n",
       "</table>\n",
       "</div>"
      ],
      "text/plain": [
       "                           input                      target_p1\n",
       "0               [1, 0, 0, 0, 99]               [2, 0, 0, 0, 99]\n",
       "1               [2, 3, 0, 3, 99]               [2, 3, 0, 6, 99]\n",
       "2            [2, 4, 4, 5, 99, 0]         [2, 4, 4, 5, 99, 9801]\n",
       "3  [1, 1, 1, 4, 99, 5, 6, 0, 99]  [30, 1, 1, 4, 2, 5, 6, 0, 99]"
      ]
     },
     "execution_count": 2,
     "metadata": {},
     "output_type": "execute_result"
    }
   ],
   "source": [
    "# Create test DataFrame\n",
    "input_col = 'input'\n",
    "target1_col = 'target_p1'\n",
    "output1_col = 'output_p1'\n",
    "\n",
    "input_s = pd.Series([[1,0,0,0,99], [2,3,0,3,99], [2,4,4,5,99,0], [1,1,1,4,99,5,6,0,99]], name=input_col)\n",
    "target1_s = pd.Series([[2,0,0,0,99], [2,3,0,6,99], [2,4,4,5,99,9801], [30,1,1,4,2,5,6,0,99]], name=target1_col)\n",
    "\n",
    "test_df = pd.DataFrame([input_s, target1_s]).T\n",
    "\n",
    "test_df"
   ]
  },
  {
   "cell_type": "code",
   "execution_count": 3,
   "metadata": {},
   "outputs": [],
   "source": [
    "# Functionize opcode1\n",
    "\n",
    "def run_opcode_step(code_list, start_pos, show_it=False):\n",
    "    run_code = code_list[start_pos]\n",
    "    max_pos = len(code_list)\n",
    "    var1_pos = code_list[min(start_pos + 1, max_pos-1)]\n",
    "    var1 = code_list[var1_pos]\n",
    "    var2_pos = code_list[min(start_pos + 2, max_pos-1)]\n",
    "    var2 = code_list[var2_pos]\n",
    "    answer_pos = code_list[min(start_pos + 3, max_pos-1)]\n",
    "    if show_it:\n",
    "        print(f'run_code: {run_code}, var1: {var1}, var2: {var2}:, answer_pos: {answer_pos}')\n",
    "    prev_value = code_list[answer_pos]\n",
    "    if run_code == 99:\n",
    "        if show_it:\n",
    "            print(f'End of code at step {start_pos}')\n",
    "        return 0\n",
    "    if run_code == 1:\n",
    "        result = var1 + var2\n",
    "    elif run_code == 2:\n",
    "         result = var1 * var2\n",
    "    else:\n",
    "        print(f'ERROR FOUND at step {start_pos}')\n",
    "        return -1\n",
    "    code_list[answer_pos] = result\n",
    "    if show_it:\n",
    "        print(f'Position {answer_pos} changed to {result}')\n",
    "    return 1"
   ]
  },
  {
   "cell_type": "code",
   "execution_count": 4,
   "metadata": {},
   "outputs": [],
   "source": [
    "# Functionize movement\n",
    "\n",
    "def opcode_step_through(start_codes, show_it=False):\n",
    "    code_list = start_codes.copy()\n",
    "#     if show_it:\n",
    "#         print(code_list)\n",
    "    on_pos = 0\n",
    "    max_pos = len(code_list)\n",
    "    go_code = 1\n",
    "    steps = 0\n",
    "    while go_code > 0:\n",
    "        to_pos = min(on_pos + 4, max_pos-1)\n",
    "        if code_list[on_pos] == 99:\n",
    "            go_code = 0\n",
    "#             if show_it:\n",
    "#                 print('Result:', code_list)\n",
    "            continue\n",
    "        if show_it:\n",
    "#             print(on_pos, to_pos)\n",
    "            print(f'Position {on_pos}:') \n",
    "            print(code_list[on_pos:to_pos])\n",
    "        go_code = run_opcode_step(code_list, on_pos, show_it=show_it)\n",
    "#         if show_it:\n",
    "#             print(f'Position {on_pos}:', code_list[on_pos:to_pos])\n",
    "#             print('Go Code =', go_code)\n",
    "        on_pos = to_pos\n",
    "        steps += 1\n",
    "    print(f'Resolved in {steps} steps')\n",
    "    return code_list"
   ]
  },
  {
   "cell_type": "code",
   "execution_count": 5,
   "metadata": {},
   "outputs": [],
   "source": [
    "def opcode_step_through_df(df, input_col='input', output_col='output', show_it=False):\n",
    "    df[output_col] = df[input_col].apply(lambda x: opcode_step_through(x, show_it=show_it))\n",
    "    return df"
   ]
  },
  {
   "cell_type": "code",
   "execution_count": 6,
   "metadata": {},
   "outputs": [
    {
     "name": "stdout",
     "output_type": "stream",
     "text": [
      "Resolved in 1 steps\n",
      "Resolved in 1 steps\n",
      "Resolved in 1 steps\n",
      "Resolved in 2 steps\n"
     ]
    },
    {
     "data": {
      "text/html": [
       "<div>\n",
       "<style scoped>\n",
       "    .dataframe tbody tr th:only-of-type {\n",
       "        vertical-align: middle;\n",
       "    }\n",
       "\n",
       "    .dataframe tbody tr th {\n",
       "        vertical-align: top;\n",
       "    }\n",
       "\n",
       "    .dataframe thead th {\n",
       "        text-align: right;\n",
       "    }\n",
       "</style>\n",
       "<table border=\"1\" class=\"dataframe\">\n",
       "  <thead>\n",
       "    <tr style=\"text-align: right;\">\n",
       "      <th></th>\n",
       "      <th>input</th>\n",
       "      <th>target_p1</th>\n",
       "      <th>output_p1</th>\n",
       "      <th>result_P1</th>\n",
       "    </tr>\n",
       "  </thead>\n",
       "  <tbody>\n",
       "    <tr>\n",
       "      <th>0</th>\n",
       "      <td>[1, 0, 0, 0, 99]</td>\n",
       "      <td>[2, 0, 0, 0, 99]</td>\n",
       "      <td>[2, 0, 0, 0, 99]</td>\n",
       "      <td>True</td>\n",
       "    </tr>\n",
       "    <tr>\n",
       "      <th>1</th>\n",
       "      <td>[2, 3, 0, 3, 99]</td>\n",
       "      <td>[2, 3, 0, 6, 99]</td>\n",
       "      <td>[2, 3, 0, 6, 99]</td>\n",
       "      <td>True</td>\n",
       "    </tr>\n",
       "    <tr>\n",
       "      <th>2</th>\n",
       "      <td>[2, 4, 4, 5, 99, 0]</td>\n",
       "      <td>[2, 4, 4, 5, 99, 9801]</td>\n",
       "      <td>[2, 4, 4, 5, 99, 9801]</td>\n",
       "      <td>True</td>\n",
       "    </tr>\n",
       "    <tr>\n",
       "      <th>3</th>\n",
       "      <td>[1, 1, 1, 4, 99, 5, 6, 0, 99]</td>\n",
       "      <td>[30, 1, 1, 4, 2, 5, 6, 0, 99]</td>\n",
       "      <td>[30, 1, 1, 4, 2, 5, 6, 0, 99]</td>\n",
       "      <td>True</td>\n",
       "    </tr>\n",
       "  </tbody>\n",
       "</table>\n",
       "</div>"
      ],
      "text/plain": [
       "                           input                      target_p1  \\\n",
       "0               [1, 0, 0, 0, 99]               [2, 0, 0, 0, 99]   \n",
       "1               [2, 3, 0, 3, 99]               [2, 3, 0, 6, 99]   \n",
       "2            [2, 4, 4, 5, 99, 0]         [2, 4, 4, 5, 99, 9801]   \n",
       "3  [1, 1, 1, 4, 99, 5, 6, 0, 99]  [30, 1, 1, 4, 2, 5, 6, 0, 99]   \n",
       "\n",
       "                       output_p1  result_P1  \n",
       "0               [2, 0, 0, 0, 99]       True  \n",
       "1               [2, 3, 0, 6, 99]       True  \n",
       "2         [2, 4, 4, 5, 99, 9801]       True  \n",
       "3  [30, 1, 1, 4, 2, 5, 6, 0, 99]       True  "
      ]
     },
     "metadata": {},
     "output_type": "display_data"
    },
    {
     "name": "stdout",
     "output_type": "stream",
     "text": [
      "Result: True\n"
     ]
    }
   ],
   "source": [
    "# Run test P1\n",
    "\n",
    "result1_col = 'result_P1'\n",
    "\n",
    "# test_df[output1_col] = test_df[input_col].apply(lambda x: opcode_step_through(x, show_it=False))\n",
    "test_df = opcode_step_through_df(test_df, input_col=input_col, output_col=output1_col)\n",
    "result_p1 = func.test_target_check(test_df, target_col=target1_col, test_col=output1_col, result_col=result1_col)\n",
    "display(test_df)\n",
    "print('Result:', result_p1)"
   ]
  },
  {
   "cell_type": "markdown",
   "metadata": {},
   "source": [
    "#### Get source data"
   ]
  },
  {
   "cell_type": "code",
   "execution_count": 7,
   "metadata": {},
   "outputs": [
    {
     "data": {
      "text/html": [
       "<div>\n",
       "<style scoped>\n",
       "    .dataframe tbody tr th:only-of-type {\n",
       "        vertical-align: middle;\n",
       "    }\n",
       "\n",
       "    .dataframe tbody tr th {\n",
       "        vertical-align: top;\n",
       "    }\n",
       "\n",
       "    .dataframe thead th {\n",
       "        text-align: right;\n",
       "    }\n",
       "</style>\n",
       "<table border=\"1\" class=\"dataframe\">\n",
       "  <thead>\n",
       "    <tr style=\"text-align: right;\">\n",
       "      <th></th>\n",
       "      <th>code</th>\n",
       "    </tr>\n",
       "  </thead>\n",
       "  <tbody>\n",
       "    <tr>\n",
       "      <th>0</th>\n",
       "      <td>1</td>\n",
       "    </tr>\n",
       "    <tr>\n",
       "      <th>1</th>\n",
       "      <td>0</td>\n",
       "    </tr>\n",
       "    <tr>\n",
       "      <th>2</th>\n",
       "      <td>0</td>\n",
       "    </tr>\n",
       "    <tr>\n",
       "      <th>3</th>\n",
       "      <td>3</td>\n",
       "    </tr>\n",
       "    <tr>\n",
       "      <th>4</th>\n",
       "      <td>1</td>\n",
       "    </tr>\n",
       "  </tbody>\n",
       "</table>\n",
       "</div>"
      ],
      "text/plain": [
       "   code\n",
       "0     1\n",
       "1     0\n",
       "2     0\n",
       "3     3\n",
       "4     1"
      ]
     },
     "execution_count": 7,
     "metadata": {},
     "output_type": "execute_result"
    }
   ],
   "source": [
    "# Read Source\n",
    "src_df = pd.read_csv('2019_02.txt', header=None).T.rename(columns={0:'code'})\n",
    "src_df.head()"
   ]
  },
  {
   "cell_type": "markdown",
   "metadata": {},
   "source": [
    "#### Perform initial steps"
   ]
  },
  {
   "cell_type": "code",
   "execution_count": 8,
   "metadata": {},
   "outputs": [],
   "source": [
    "p1_df = src_df.copy()"
   ]
  },
  {
   "cell_type": "code",
   "execution_count": 9,
   "metadata": {},
   "outputs": [
    {
     "data": {
      "text/html": [
       "<div>\n",
       "<style scoped>\n",
       "    .dataframe tbody tr th:only-of-type {\n",
       "        vertical-align: middle;\n",
       "    }\n",
       "\n",
       "    .dataframe tbody tr th {\n",
       "        vertical-align: top;\n",
       "    }\n",
       "\n",
       "    .dataframe thead th {\n",
       "        text-align: right;\n",
       "    }\n",
       "</style>\n",
       "<table border=\"1\" class=\"dataframe\">\n",
       "  <thead>\n",
       "    <tr style=\"text-align: right;\">\n",
       "      <th></th>\n",
       "      <th>code</th>\n",
       "    </tr>\n",
       "  </thead>\n",
       "  <tbody>\n",
       "    <tr>\n",
       "      <th>0</th>\n",
       "      <td>1</td>\n",
       "    </tr>\n",
       "    <tr>\n",
       "      <th>1</th>\n",
       "      <td>12</td>\n",
       "    </tr>\n",
       "    <tr>\n",
       "      <th>2</th>\n",
       "      <td>2</td>\n",
       "    </tr>\n",
       "    <tr>\n",
       "      <th>3</th>\n",
       "      <td>3</td>\n",
       "    </tr>\n",
       "    <tr>\n",
       "      <th>4</th>\n",
       "      <td>1</td>\n",
       "    </tr>\n",
       "  </tbody>\n",
       "</table>\n",
       "</div>"
      ],
      "text/plain": [
       "   code\n",
       "0     1\n",
       "1    12\n",
       "2     2\n",
       "3     3\n",
       "4     1"
      ]
     },
     "execution_count": 9,
     "metadata": {},
     "output_type": "execute_result"
    }
   ],
   "source": [
    "p1_df.iloc[1]=12\n",
    "p1_df.iloc[2]=2\n",
    "p1_df.head()"
   ]
  },
  {
   "cell_type": "code",
   "execution_count": 10,
   "metadata": {},
   "outputs": [
    {
     "data": {
      "text/html": [
       "<div>\n",
       "<style scoped>\n",
       "    .dataframe tbody tr th:only-of-type {\n",
       "        vertical-align: middle;\n",
       "    }\n",
       "\n",
       "    .dataframe tbody tr th {\n",
       "        vertical-align: top;\n",
       "    }\n",
       "\n",
       "    .dataframe thead th {\n",
       "        text-align: right;\n",
       "    }\n",
       "</style>\n",
       "<table border=\"1\" class=\"dataframe\">\n",
       "  <thead>\n",
       "    <tr style=\"text-align: right;\">\n",
       "      <th></th>\n",
       "      <th>code</th>\n",
       "    </tr>\n",
       "  </thead>\n",
       "  <tbody>\n",
       "    <tr>\n",
       "      <th>0</th>\n",
       "      <td>1</td>\n",
       "    </tr>\n",
       "    <tr>\n",
       "      <th>1</th>\n",
       "      <td>0</td>\n",
       "    </tr>\n",
       "    <tr>\n",
       "      <th>2</th>\n",
       "      <td>0</td>\n",
       "    </tr>\n",
       "    <tr>\n",
       "      <th>3</th>\n",
       "      <td>3</td>\n",
       "    </tr>\n",
       "    <tr>\n",
       "      <th>4</th>\n",
       "      <td>1</td>\n",
       "    </tr>\n",
       "  </tbody>\n",
       "</table>\n",
       "</div>"
      ],
      "text/plain": [
       "   code\n",
       "0     1\n",
       "1     0\n",
       "2     0\n",
       "3     3\n",
       "4     1"
      ]
     },
     "execution_count": 10,
     "metadata": {},
     "output_type": "execute_result"
    }
   ],
   "source": [
    "src_df.head()"
   ]
  },
  {
   "cell_type": "code",
   "execution_count": 11,
   "metadata": {},
   "outputs": [
    {
     "name": "stdout",
     "output_type": "stream",
     "text": [
      "Resolved in 28 steps\n"
     ]
    },
    {
     "data": {
      "text/html": [
       "<div>\n",
       "<style scoped>\n",
       "    .dataframe tbody tr th:only-of-type {\n",
       "        vertical-align: middle;\n",
       "    }\n",
       "\n",
       "    .dataframe tbody tr th {\n",
       "        vertical-align: top;\n",
       "    }\n",
       "\n",
       "    .dataframe thead th {\n",
       "        text-align: right;\n",
       "    }\n",
       "</style>\n",
       "<table border=\"1\" class=\"dataframe\">\n",
       "  <thead>\n",
       "    <tr style=\"text-align: right;\">\n",
       "      <th></th>\n",
       "      <th>code</th>\n",
       "      <th>result_p1</th>\n",
       "    </tr>\n",
       "  </thead>\n",
       "  <tbody>\n",
       "    <tr>\n",
       "      <th>0</th>\n",
       "      <td>1</td>\n",
       "      <td>3895705</td>\n",
       "    </tr>\n",
       "    <tr>\n",
       "      <th>1</th>\n",
       "      <td>12</td>\n",
       "      <td>12</td>\n",
       "    </tr>\n",
       "    <tr>\n",
       "      <th>2</th>\n",
       "      <td>2</td>\n",
       "      <td>2</td>\n",
       "    </tr>\n",
       "    <tr>\n",
       "      <th>3</th>\n",
       "      <td>3</td>\n",
       "      <td>2</td>\n",
       "    </tr>\n",
       "    <tr>\n",
       "      <th>4</th>\n",
       "      <td>1</td>\n",
       "      <td>1</td>\n",
       "    </tr>\n",
       "    <tr>\n",
       "      <th>5</th>\n",
       "      <td>1</td>\n",
       "      <td>1</td>\n",
       "    </tr>\n",
       "    <tr>\n",
       "      <th>6</th>\n",
       "      <td>2</td>\n",
       "      <td>2</td>\n",
       "    </tr>\n",
       "    <tr>\n",
       "      <th>7</th>\n",
       "      <td>3</td>\n",
       "      <td>3</td>\n",
       "    </tr>\n",
       "  </tbody>\n",
       "</table>\n",
       "</div>"
      ],
      "text/plain": [
       "   code  result_p1\n",
       "0     1    3895705\n",
       "1    12         12\n",
       "2     2          2\n",
       "3     3          2\n",
       "4     1          1\n",
       "5     1          1\n",
       "6     2          2\n",
       "7     3          3"
      ]
     },
     "execution_count": 11,
     "metadata": {},
     "output_type": "execute_result"
    }
   ],
   "source": [
    "p1_df['result_p1'] = opcode_step_through(p1_df.code, show_it=False)\n",
    "p1_df.head(8)"
   ]
  },
  {
   "cell_type": "code",
   "execution_count": 12,
   "metadata": {},
   "outputs": [],
   "source": [
    "answer_p1 = p1_df.result_p1[0]"
   ]
  },
  {
   "cell_type": "code",
   "execution_count": 13,
   "metadata": {},
   "outputs": [
    {
     "name": "stdout",
     "output_type": "stream",
     "text": [
      "True\n"
     ]
    }
   ],
   "source": [
    "actual_p1 = 3895705\n",
    "print(actual_p1==answer_p1)"
   ]
  },
  {
   "cell_type": "markdown",
   "metadata": {},
   "source": [
    "### That's the right answer! You are one gold star closer to rescuing Santa. "
   ]
  },
  {
   "cell_type": "markdown",
   "metadata": {},
   "source": [
    "## Part II"
   ]
  },
  {
   "cell_type": "markdown",
   "metadata": {},
   "source": [
    "\"Good, the new computer seems to be working correctly! Keep it nearby during this mission - you'll probably use it again. Real Intcode computers support many more features than your new one, but we'll let you know what they are as you need them.\"\n",
    "\n",
    "\"However, your current priority should be to complete your gravity assist around the Moon. For this mission to succeed, we should settle on some terminology for the parts you've already built.\"\n",
    "\n",
    "Intcode programs are given as a list of integers; these values are used as the initial state for the computer's memory. When you run an Intcode program, make sure to start by initializing memory to the program's values. A position in memory is called an address (for example, the first value in memory is at \"address 0\").\n",
    "\n",
    "Opcodes (like 1, 2, or 99) mark the beginning of an instruction. The values used immediately after an opcode, if any, are called the instruction's parameters. For example, in the instruction 1,2,3,4, 1 is the opcode; 2, 3, and 4 are the parameters. The instruction 99 contains only an opcode and has no parameters.\n",
    "\n",
    "The address of the current instruction is called the instruction pointer; it starts at 0. After an instruction finishes, the instruction pointer increases by the number of values in the instruction; until you add more instructions to the computer, this is always 4 (1 opcode + 3 parameters) for the add and multiply instructions. (The halt instruction would increase the instruction pointer by 1, but it halts the program instead.)\n",
    "\n",
    "\"With terminology out of the way, we're ready to proceed. To complete the gravity assist, you need to determine what pair of inputs produces the output 19690720.\"\n",
    "\n",
    "The inputs should still be provided to the program by replacing the values at addresses 1 and 2, just like before. In this program, the value placed in address 1 is called the noun, and the value placed in address 2 is called the verb. Each of the two input values will be between 0 and 99, inclusive.\n",
    "\n",
    "Once the program has halted, its output is available at address 0, also just like before. Each time you try a pair of inputs, make sure you first reset the computer's memory to the values in the program (your puzzle input) - in other words, don't reuse memory from a previous attempt.\n",
    "\n",
    "Find the input noun and verb that cause the program to produce the output 19690720. What is 100 * noun + verb? (For example, if noun=12 and verb=2, the answer would be 1202.)"
   ]
  },
  {
   "cell_type": "code",
   "execution_count": 14,
   "metadata": {},
   "outputs": [],
   "source": [
    "# Functionize Part 1\n",
    "\n",
    "def compute_intcode(src_df, noun=12, verb=2, code_col='code', result_col='result', show_it=False):\n",
    "    df = src_df.copy()\n",
    "    df.iloc[1]=noun\n",
    "    df.iloc[2]=verb\n",
    "    df[result_col] = opcode_step_through(df[code_col], show_it=show_it)\n",
    "    return df"
   ]
  },
  {
   "cell_type": "code",
   "execution_count": 15,
   "metadata": {},
   "outputs": [],
   "source": [
    "target2 = 19690720"
   ]
  },
  {
   "cell_type": "code",
   "execution_count": 16,
   "metadata": {},
   "outputs": [
    {
     "name": "stdout",
     "output_type": "stream",
     "text": [
      "Position 0:\n",
      "0     1\n",
      "1    64\n",
      "2    17\n",
      "3     3\n",
      "Name: code, dtype: int64\n",
      "run_code: 1, var1: 1, var2: 1:, answer_pos: 3\n",
      "Position 3 changed to 2\n",
      "Position 4:\n",
      "4    1\n",
      "5    1\n",
      "6    2\n",
      "7    3\n",
      "Name: code, dtype: int64\n",
      "run_code: 1, var1: 64, var2: 17:, answer_pos: 3\n",
      "Position 3 changed to 81\n",
      "Position 8:\n",
      "8     1\n",
      "9     3\n",
      "10    4\n",
      "11    3\n",
      "Name: code, dtype: int64\n",
      "run_code: 1, var1: 81, var2: 1:, answer_pos: 3\n",
      "Position 3 changed to 82\n",
      "Position 12:\n",
      "12    1\n",
      "13    5\n",
      "14    0\n",
      "15    3\n",
      "Name: code, dtype: int64\n",
      "run_code: 1, var1: 1, var2: 1:, answer_pos: 3\n",
      "Position 3 changed to 2\n",
      "Position 16:\n",
      "16     2\n",
      "17     1\n",
      "18     9\n",
      "19    19\n",
      "Name: code, dtype: int64\n",
      "run_code: 2, var1: 64, var2: 3:, answer_pos: 19\n",
      "Position 19 changed to 192\n",
      "Position 20:\n",
      "20     1\n",
      "21    19\n",
      "22     5\n",
      "23    23\n",
      "Name: code, dtype: int64\n",
      "run_code: 1, var1: 192, var2: 1:, answer_pos: 23\n",
      "Position 23 changed to 193\n",
      "Position 24:\n",
      "24     2\n",
      "25    23\n",
      "26    13\n",
      "27    27\n",
      "Name: code, dtype: int64\n",
      "run_code: 2, var1: 193, var2: 5:, answer_pos: 27\n",
      "Position 27 changed to 965\n",
      "Position 28:\n",
      "28     1\n",
      "29    10\n",
      "30    27\n",
      "31    31\n",
      "Name: code, dtype: int64\n",
      "run_code: 1, var1: 4, var2: 965:, answer_pos: 31\n",
      "Position 31 changed to 969\n",
      "Position 32:\n",
      "32     2\n",
      "33    31\n",
      "34     6\n",
      "35    35\n",
      "Name: code, dtype: int64\n",
      "run_code: 2, var1: 969, var2: 2:, answer_pos: 35\n",
      "Position 35 changed to 1938\n",
      "Position 36:\n",
      "36     1\n",
      "37     5\n",
      "38    35\n",
      "39    39\n",
      "Name: code, dtype: int64\n",
      "run_code: 1, var1: 1, var2: 1938:, answer_pos: 39\n",
      "Position 39 changed to 1939\n",
      "Position 40:\n",
      "40     1\n",
      "41    39\n",
      "42    10\n",
      "43    43\n",
      "Name: code, dtype: int64\n",
      "run_code: 1, var1: 1939, var2: 4:, answer_pos: 43\n",
      "Position 43 changed to 1943\n",
      "Position 44:\n",
      "44     2\n",
      "45     9\n",
      "46    43\n",
      "47    47\n",
      "Name: code, dtype: int64\n",
      "run_code: 2, var1: 3, var2: 1943:, answer_pos: 47\n",
      "Position 47 changed to 5829\n",
      "Position 48:\n",
      "48     1\n",
      "49    47\n",
      "50     5\n",
      "51    51\n",
      "Name: code, dtype: int64\n",
      "run_code: 1, var1: 5829, var2: 1:, answer_pos: 51\n",
      "Position 51 changed to 5830\n",
      "Position 52:\n",
      "52     2\n",
      "53    51\n",
      "54     9\n",
      "55    55\n",
      "Name: code, dtype: int64\n",
      "run_code: 2, var1: 5830, var2: 3:, answer_pos: 55\n",
      "Position 55 changed to 17490\n",
      "Position 56:\n",
      "56     1\n",
      "57    13\n",
      "58    55\n",
      "59    59\n",
      "Name: code, dtype: int64\n",
      "run_code: 1, var1: 5, var2: 17490:, answer_pos: 59\n",
      "Position 59 changed to 17495\n",
      "Position 60:\n",
      "60     1\n",
      "61    13\n",
      "62    59\n",
      "63    63\n",
      "Name: code, dtype: int64\n",
      "run_code: 1, var1: 5, var2: 17495:, answer_pos: 63\n",
      "Position 63 changed to 17500\n",
      "Position 64:\n",
      "64     1\n",
      "65     6\n",
      "66    63\n",
      "67    67\n",
      "Name: code, dtype: int64\n",
      "run_code: 1, var1: 2, var2: 17500:, answer_pos: 67\n",
      "Position 67 changed to 17502\n",
      "Position 68:\n",
      "68     2\n",
      "69    13\n",
      "70    67\n",
      "71    71\n",
      "Name: code, dtype: int64\n",
      "run_code: 2, var1: 5, var2: 17502:, answer_pos: 71\n",
      "Position 71 changed to 87510\n",
      "Position 72:\n",
      "72     1\n",
      "73    10\n",
      "74    71\n",
      "75    75\n",
      "Name: code, dtype: int64\n",
      "run_code: 1, var1: 4, var2: 87510:, answer_pos: 75\n",
      "Position 75 changed to 87514\n",
      "Position 76:\n",
      "76     2\n",
      "77    13\n",
      "78    75\n",
      "79    79\n",
      "Name: code, dtype: int64\n",
      "run_code: 2, var1: 5, var2: 87514:, answer_pos: 79\n",
      "Position 79 changed to 437570\n",
      "Position 80:\n",
      "80     1\n",
      "81     5\n",
      "82    79\n",
      "83    83\n",
      "Name: code, dtype: int64\n",
      "run_code: 1, var1: 1, var2: 437570:, answer_pos: 83\n",
      "Position 83 changed to 437571\n",
      "Position 84:\n",
      "84     2\n",
      "85    83\n",
      "86     9\n",
      "87    87\n",
      "Name: code, dtype: int64\n",
      "run_code: 2, var1: 437571, var2: 3:, answer_pos: 87\n",
      "Position 87 changed to 1312713\n",
      "Position 88:\n",
      "88     2\n",
      "89    87\n",
      "90    13\n",
      "91    91\n",
      "Name: code, dtype: int64\n",
      "run_code: 2, var1: 1312713, var2: 5:, answer_pos: 91\n",
      "Position 91 changed to 6563565\n",
      "Position 92:\n",
      "92     1\n",
      "93    91\n",
      "94     5\n",
      "95    95\n",
      "Name: code, dtype: int64\n",
      "run_code: 1, var1: 6563565, var2: 1:, answer_pos: 95\n",
      "Position 95 changed to 6563566\n",
      "Position 96:\n",
      "96     2\n",
      "97     9\n",
      "98    95\n",
      "99    99\n",
      "Name: code, dtype: int64\n",
      "run_code: 2, var1: 3, var2: 6563566:, answer_pos: 99\n",
      "Position 99 changed to 19690698\n",
      "Position 100:\n",
      "100      1\n",
      "101     99\n",
      "102      5\n",
      "103    103\n",
      "Name: code, dtype: int64\n",
      "run_code: 1, var1: 19690698, var2: 1:, answer_pos: 103\n",
      "Position 103 changed to 19690699\n",
      "Position 104:\n",
      "104      1\n",
      "105      2\n",
      "106    103\n",
      "107    107\n",
      "Name: code, dtype: int64\n",
      "run_code: 1, var1: 17, var2: 19690699:, answer_pos: 107\n",
      "Position 107 changed to 19690716\n",
      "Position 108:\n",
      "108      1\n",
      "109     10\n",
      "110    107\n",
      "111      0\n",
      "Name: code, dtype: int64\n",
      "run_code: 1, var1: 4, var2: 19690716:, answer_pos: 0\n",
      "Position 0 changed to 19690720\n",
      "Resolved in 28 steps\n"
     ]
    },
    {
     "data": {
      "text/html": [
       "<div>\n",
       "<style scoped>\n",
       "    .dataframe tbody tr th:only-of-type {\n",
       "        vertical-align: middle;\n",
       "    }\n",
       "\n",
       "    .dataframe tbody tr th {\n",
       "        vertical-align: top;\n",
       "    }\n",
       "\n",
       "    .dataframe thead th {\n",
       "        text-align: right;\n",
       "    }\n",
       "</style>\n",
       "<table border=\"1\" class=\"dataframe\">\n",
       "  <thead>\n",
       "    <tr style=\"text-align: right;\">\n",
       "      <th></th>\n",
       "      <th>code</th>\n",
       "      <th>result</th>\n",
       "    </tr>\n",
       "  </thead>\n",
       "  <tbody>\n",
       "    <tr>\n",
       "      <th>0</th>\n",
       "      <td>1</td>\n",
       "      <td>19690720</td>\n",
       "    </tr>\n",
       "    <tr>\n",
       "      <th>1</th>\n",
       "      <td>64</td>\n",
       "      <td>64</td>\n",
       "    </tr>\n",
       "    <tr>\n",
       "      <th>2</th>\n",
       "      <td>17</td>\n",
       "      <td>17</td>\n",
       "    </tr>\n",
       "    <tr>\n",
       "      <th>3</th>\n",
       "      <td>3</td>\n",
       "      <td>2</td>\n",
       "    </tr>\n",
       "  </tbody>\n",
       "</table>\n",
       "</div>"
      ],
      "text/plain": [
       "   code    result\n",
       "0     1  19690720\n",
       "1    64        64\n",
       "2    17        17\n",
       "3     3         2"
      ]
     },
     "metadata": {},
     "output_type": "display_data"
    },
    {
     "name": "stdout",
     "output_type": "stream",
     "text": [
      "6417 19690720 19690720 0\n"
     ]
    }
   ],
   "source": [
    "noun=64\n",
    "verb=17\n",
    "code = str(noun)+str(verb)\n",
    "df_check = compute_intcode(src_df, noun=64, verb=17, code_col='code', result_col='result', show_it=True)\n",
    "display(df_check.head(4))\n",
    "result2 = df_check.result[0]\n",
    "print(code, target2, result2, target2-result2)"
   ]
  },
  {
   "cell_type": "code",
   "execution_count": 17,
   "metadata": {},
   "outputs": [],
   "source": [
    "actual_p2 = 6417"
   ]
  },
  {
   "cell_type": "code",
   "execution_count": 18,
   "metadata": {},
   "outputs": [
    {
     "data": {
      "text/plain": [
       "False"
      ]
     },
     "execution_count": 18,
     "metadata": {},
     "output_type": "execute_result"
    }
   ],
   "source": [
    "result2==actual_p2"
   ]
  },
  {
   "cell_type": "markdown",
   "metadata": {},
   "source": [
    "### That's the right answer! You are one gold star closer to rescuing Santa."
   ]
  }
 ],
 "metadata": {
  "kernelspec": {
   "display_name": "Python 3",
   "language": "python",
   "name": "python3"
  },
  "language_info": {
   "codemirror_mode": {
    "name": "ipython",
    "version": 3
   },
   "file_extension": ".py",
   "mimetype": "text/x-python",
   "name": "python",
   "nbconvert_exporter": "python",
   "pygments_lexer": "ipython3",
   "version": "3.7.3"
  }
 },
 "nbformat": 4,
 "nbformat_minor": 2
}
