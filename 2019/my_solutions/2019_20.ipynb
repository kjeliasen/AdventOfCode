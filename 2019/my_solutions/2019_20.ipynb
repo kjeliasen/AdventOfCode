{
 "cells": [
  {
   "cell_type": "markdown",
   "metadata": {},
   "source": [
    "# Day 20: Donut Maze\n",
    "\n",
    "[Aoc Site](https://adventofcode.com/2019/day/20)"
   ]
  },
  {
   "cell_type": "markdown",
   "metadata": {},
   "source": [
    "## Part I"
   ]
  },
  {
   "cell_type": "markdown",
   "metadata": {},
   "source": [
    "<p>You notice a strange pattern on the surface of Pluto and land nearby to get a closer look. Upon closer inspection, you realize you've come across one of the famous space-warping mazes of the long-lost Pluto civilization!</p>\n",
    "<p>Because there isn't much space on Pluto, the civilization that used to live here thrived by inventing a method for folding spacetime.  Although the technology is no longer understood, mazes like this one provide a small glimpse into the <span title=\"So really, this puzzle is more archaeology than math, right?\">daily life of an ancient Pluto citizen</span>.</p>\n",
    "<p>This maze is shaped like a <a href=\"https://en.wikipedia.org/wiki/Torus\">donut</a>. Portals along the inner and outer edge of the donut can instantly teleport you from one side to the other.  For example:</p>\n",
    "<pre><code>         A           \n",
    "         A           \n",
    "  #######.#########  \n",
    "  #######.........#  \n",
    "  #######.#######.#  \n",
    "  #######.#######.#  \n",
    "  #######.#######.#  \n",
    "  #####  B    ###.#  \n",
    "BC...##  C    ###.#  \n",
    "  ##.##       ###.#  \n",
    "  ##...DE  F  ###.#  \n",
    "  #####    G  ###.#  \n",
    "  #########.#####.#  \n",
    "DE..#######...###.#  \n",
    "  #.#########.###.#  \n",
    "FG..#########.....#  \n",
    "  ###########.#####  \n",
    "             Z       \n",
    "             Z       \n",
    "</code></pre>\n",
    "<p>This map of the maze shows solid walls (<code>#</code>) and open passages (<code>.</code>). Every maze on Pluto has a start (the open tile next to <code>AA</code>) and an end (the open tile next to <code>ZZ</code>). Mazes on Pluto also have portals; this maze has three pairs of portals: <code>BC</code>, <code>DE</code>, and <code>FG</code>. When on an open tile next to one of these labels, a single step can take you to the other tile with the same label. (You can only walk on <code>.</code> tiles; labels and empty space are not traversable.)</p>\n",
    "<p>One path through the maze doesn't require any portals.  Starting at <code>AA</code>, you could go down 1, right 8, down 12, left 4, and down 1 to reach <code>ZZ</code>, a total of 26 steps.</p>\n",
    "<p>However, there is a shorter path:  You could walk from <code>AA</code> to the inner <code>BC</code> portal (4 steps), warp to the outer <code>BC</code> portal (1 step), walk to the inner <code>DE</code> (6 steps), warp to the outer <code>DE</code> (1 step), walk to the outer <code>FG</code> (4 steps), warp to the inner <code>FG</code> (1 step), and finally walk to <code>ZZ</code> (6 steps). In total, this is only <em>23</em> steps.</p>\n",
    "<p>Here is a larger example:</p>\n",
    "<pre><code>                   A               \n",
    "                   A               \n",
    "  #################.#############  \n",
    "  #.#...#...................#.#.#  \n",
    "  #.#.#.###.###.###.#########.#.#  \n",
    "  #.#.#.......#...#.....#.#.#...#  \n",
    "  #.#########.###.#####.#.#.###.#  \n",
    "  #.............#.#.....#.......#  \n",
    "  ###.###########.###.#####.#.#.#  \n",
    "  #.....#        A   C    #.#.#.#  \n",
    "  #######        S   P    #####.#  \n",
    "  #.#...#                 #......VT\n",
    "  #.#.#.#                 #.#####  \n",
    "  #...#.#               YN....#.#  \n",
    "  #.###.#                 #####.#  \n",
    "DI....#.#                 #.....#  \n",
    "  #####.#                 #.###.#  \n",
    "ZZ......#               QG....#..AS\n",
    "  ###.###                 #######  \n",
    "JO..#.#.#                 #.....#  \n",
    "  #.#.#.#                 ###.#.#  \n",
    "  #...#..DI             BU....#..LF\n",
    "  #####.#                 #.#####  \n",
    "YN......#               VT..#....QG\n",
    "  #.###.#                 #.###.#  \n",
    "  #.#...#                 #.....#  \n",
    "  ###.###    J L     J    #.#.###  \n",
    "  #.....#    O F     P    #.#...#  \n",
    "  #.###.#####.#.#####.#####.###.#  \n",
    "  #...#.#.#...#.....#.....#.#...#  \n",
    "  #.#####.###.###.#.#.#########.#  \n",
    "  #...#.#.....#...#.#.#.#.....#.#  \n",
    "  #.###.#####.###.###.#.#.#######  \n",
    "  #.#.........#...#.............#  \n",
    "  #########.###.###.#############  \n",
    "           B   J   C               \n",
    "           U   P   P               \n",
    "</code></pre>\n",
    "<p>Here, <code>AA</code> has no direct path to <code>ZZ</code>, but it does connect to <code>AS</code> and <code>CP</code>. By passing through <code>AS</code>, <code>QG</code>, <code>BU</code>, and <code>JO</code>, you can reach <code>ZZ</code> in <em>58</em> steps.</p>\n",
    "<p>In your maze, <em>how many steps does it take to get from the open tile marked <code>AA</code> to the open tile marked <code>ZZ</code>?</em></p>"
   ]
  },
  {
   "cell_type": "markdown",
   "metadata": {},
   "source": [
    "To begin, get your [puzzle input](https://adventofcode.com/2019/day/20/input)."
   ]
  },
  {
   "cell_type": "code",
   "execution_count": 34,
   "metadata": {},
   "outputs": [],
   "source": [
    "# Prep Notebook\n",
    "# import pandas as pd\n",
    "# import numpy as np\n",
    "\n",
    "import disfunctions as func"
   ]
  },
  {
   "cell_type": "code",
   "execution_count": null,
   "metadata": {},
   "outputs": [],
   "source": [
    "ansp1 = 99999"
   ]
  },
  {
   "cell_type": "code",
   "execution_count": null,
   "metadata": {},
   "outputs": [],
   "source": [
    "actp1 = 99999\n",
    "ansp1 == actp1"
   ]
  },
  {
   "cell_type": "markdown",
   "metadata": {},
   "source": [
    "### PART1STATUS"
   ]
  },
  {
   "cell_type": "markdown",
   "metadata": {},
   "source": [
    "# Part II"
   ]
  },
  {
   "cell_type": "markdown",
   "metadata": {},
   "source": [
    "PART2TEXT"
   ]
  },
  {
   "cell_type": "code",
   "execution_count": null,
   "metadata": {},
   "outputs": [],
   "source": [
    "ansp2 = 99999"
   ]
  },
  {
   "cell_type": "code",
   "execution_count": null,
   "metadata": {},
   "outputs": [],
   "source": [
    "actp2 = 99999\n",
    "ansp2 == actp2"
   ]
  },
  {
   "cell_type": "markdown",
   "metadata": {},
   "source": [
    "### PART2RESPONSE"
   ]
  }
 ],
 "metadata": {
  "kernelspec": {
   "display_name": "Python 3",
   "language": "python",
   "name": "python3"
  },
  "language_info": {
   "codemirror_mode": {
    "name": "ipython",
    "version": 3
   },
   "file_extension": ".py",
   "mimetype": "text/x-python",
   "name": "python",
   "nbconvert_exporter": "python",
   "pygments_lexer": "ipython3",
   "version": "3.7.3"
  }
 },
 "nbformat": 4,
 "nbformat_minor": 2
}
