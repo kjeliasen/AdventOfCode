{
 "cells": [
  {
   "cell_type": "markdown",
   "metadata": {},
   "source": [
    "# Day 10: Monitoring Station\n",
    "\n",
    "[Aoc Site](https://adventofcode.com/2019/day/10)"
   ]
  },
  {
   "cell_type": "markdown",
   "metadata": {},
   "source": [
    "## Part I"
   ]
  },
  {
   "cell_type": "markdown",
   "metadata": {},
   "source": [
    "<p>You fly into the asteroid belt and reach the Ceres monitoring station.  The Elves here have an emergency: they're having trouble tracking all of the asteroids and can't be sure they're safe.</p>\n",
    "<p>The Elves would like to build a new monitoring station in a nearby area of space; they hand you a map of all of the asteroids in that region (your puzzle input).</p>\n",
    "<p>The map indicates whether each position is empty (<code>.</code>) or contains an asteroid (<code>#</code>).  The asteroids are much smaller than they appear on the map, and every asteroid is exactly in the center of its marked position.  The asteroids can be described with <code>X,Y</code> coordinates where <code>X</code> is the distance from the left edge and <code>Y</code> is the distance from the top edge (so the top-left corner is <code>0,0</code> and the position immediately to its right is <code>1,0</code>).</p>\n",
    "<p>Your job is to figure out which asteroid would be the best place to build a <em>new monitoring station</em>. A monitoring station can <em>detect</em> any asteroid to which it has <em>direct line of sight</em> - that is, there cannot be another asteroid <em>exactly</em> between them. This line of sight can be at any angle, not just lines aligned to the grid or <span title=\"The Elves on Ceres are clearly not concerned with honor.\">diagonally</span>. The <em>best</em> location is the asteroid that can <em>detect</em> the largest number of other asteroids.</p>\n",
    "<p>For example, consider the following map:</p>\n",
    "<pre><code>.#..#\n",
    ".....\n",
    "#####\n",
    "....#\n",
    "...<em>#</em>#\n",
    "</code></pre>\n",
    "<p>The best location for a new monitoring station on this map is the highlighted asteroid at <code>3,4</code> because it can detect <code>8</code> asteroids, more than any other location. (The only asteroid it cannot detect is the one at <code>1,0</code>; its view of this asteroid is blocked by the asteroid at <code>2,2</code>.) All other asteroids are worse locations; they can detect <code>7</code> or fewer other asteroids. Here is the number of other asteroids a monitoring station on each asteroid could detect:</p>\n",
    "<pre><code>.7..7\n",
    ".....\n",
    "67775\n",
    "....7\n",
    "...87\n",
    "</code></pre>\n",
    "<p>Here is an asteroid (<code>#</code>) and some examples of the ways its line of sight might be blocked. If there were another asteroid at the location of a capital letter, the locations marked with the corresponding lowercase letter would be blocked and could not be detected:</p>\n",
    "<pre><code>#.........\n",
    "...A......\n",
    "...B..a...\n",
    ".EDCG....a\n",
    "..F.c.b...\n",
    ".....c....\n",
    "..efd.c.gb\n",
    ".......c..\n",
    "....f...c.\n",
    "...e..d..c\n",
    "</code></pre>\n",
    "<p>Here are some larger examples:</p>\n",
    "<ul>\n",
    "<li><p>Best is <code>5,8</code> with <code>33</code> other asteroids detected:</p>\n",
    "<pre><code>......#.#.\n",
    "#..#.#....\n",
    "..#######.\n",
    ".#.#.###..\n",
    ".#..#.....\n",
    "..#....#.#\n",
    "#..#....#.\n",
    ".##.#..###\n",
    "##...<em>#</em>..#.\n",
    ".#....####\n",
    "</code></pre></li>\n",
    "<li><p>Best is <code>1,2</code> with <code>35</code> other asteroids detected:</p>\n",
    "<pre><code>#.#...#.#.\n",
    ".###....#.\n",
    ".<em>#</em>....#...\n",
    "##.#.#.#.#\n",
    "....#.#.#.\n",
    ".##..###.#\n",
    "..#...##..\n",
    "..##....##\n",
    "......#...\n",
    ".####.###.\n",
    "</code></pre></li>\n",
    "<li><p>Best is <code>6,3</code> with <code>41</code> other asteroids detected:</p>\n",
    "<pre><code>.#..#..###\n",
    "####.###.#\n",
    "....###.#.\n",
    "..###.<em>#</em>#.#\n",
    "##.##.#.#.\n",
    "....###..#\n",
    "..#.#..#.#\n",
    "#..#.#.###\n",
    ".##...##.#\n",
    ".....#.#..\n",
    "</code></pre></li>\n",
    "<li><p>Best is <code>11,13</code> with <code>210</code> other asteroids detected:</p>\n",
    "<pre><code>.#..##.###...#######\n",
    "##.############..##.\n",
    ".#.######.########.#\n",
    ".###.#######.####.#.\n",
    "#####.##.#.##.###.##\n",
    "..#####..#.#########\n",
    "####################\n",
    "#.####....###.#.#.##\n",
    "##.#################\n",
    "#####.##.###..####..\n",
    "..######..##.#######\n",
    "####.##.####...##..#\n",
    ".#####..#.######.###\n",
    "##...#.####<em>#</em>#####...\n",
    "#.##########.#######\n",
    ".####.#.###.###.#.##\n",
    "....##.##.###..#####\n",
    ".#.#.###########.###\n",
    "#.#.#.#####.####.###\n",
    "###.##.####.##.#..##\n",
    "</code></pre></li>\n",
    "</ul>\n",
    "<p>Find the best location for a new monitoring station.  <em>How many other asteroids can be detected from that location?</em></p>"
   ]
  },
  {
   "cell_type": "code",
   "execution_count": 34,
   "metadata": {},
   "outputs": [],
   "source": [
    "# Prep Notebook\n",
    "import pandas as pd\n",
    "import numpy as np\n",
    "\n",
    "import disfunctions as func"
   ]
  },
  {
   "cell_type": "markdown",
   "metadata": {},
   "source": [
    "To begin, get your [puzzle input](https://adventofcode.com/2019/day/10/input)."
   ]
  },
  {
   "cell_type": "code",
   "execution_count": null,
   "metadata": {},
   "outputs": [],
   "source": [
    "ansp1 = 99999"
   ]
  },
  {
   "cell_type": "code",
   "execution_count": null,
   "metadata": {},
   "outputs": [],
   "source": [
    "actp1 = 99999\n",
    "ansp1 == actp1"
   ]
  },
  {
   "cell_type": "markdown",
   "metadata": {},
   "source": [
    "### PART1STATUS"
   ]
  },
  {
   "cell_type": "markdown",
   "metadata": {},
   "source": [
    "# Part II"
   ]
  },
  {
   "cell_type": "markdown",
   "metadata": {},
   "source": [
    "PART2TEXT"
   ]
  },
  {
   "cell_type": "code",
   "execution_count": null,
   "metadata": {},
   "outputs": [],
   "source": [
    "ansp2 = 99999"
   ]
  },
  {
   "cell_type": "code",
   "execution_count": null,
   "metadata": {},
   "outputs": [],
   "source": [
    "actp2 = 99999\n",
    "ansp2 == actp2"
   ]
  },
  {
   "cell_type": "markdown",
   "metadata": {},
   "source": [
    "### PART2RESPONSE"
   ]
  }
 ],
 "metadata": {
  "kernelspec": {
   "display_name": "Python 3",
   "language": "python",
   "name": "python3"
  },
  "language_info": {
   "codemirror_mode": {
    "name": "ipython",
    "version": 3
   },
   "file_extension": ".py",
   "mimetype": "text/x-python",
   "name": "python",
   "nbconvert_exporter": "python",
   "pygments_lexer": "ipython3",
   "version": "3.7.3"
  }
 },
 "nbformat": 4,
 "nbformat_minor": 2
}
