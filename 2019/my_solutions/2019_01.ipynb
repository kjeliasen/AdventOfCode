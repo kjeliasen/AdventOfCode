{
 "cells": [
  {
   "cell_type": "markdown",
   "metadata": {},
   "source": [
    "# Day 1: The Tyranny of the Rocket Equation\n",
    "\n",
    "[Aoc Site](https://adventofcode.com/2019/day/1)"
   ]
  },
  {
   "cell_type": "markdown",
   "metadata": {},
   "source": [
    "The Elves quickly load you into a spacecraft and prepare to launch."
   ]
  },
  {
   "cell_type": "markdown",
   "metadata": {},
   "source": [
    "## Part I"
   ]
  },
  {
   "cell_type": "markdown",
   "metadata": {},
   "source": [
    "#### At the first Go / No Go poll, every Elf is Go until the Fuel Counter-Upper. They haven't determined the amount of fuel required yet.\n",
    "\n",
    "Fuel required to launch a given module is based on its mass. ***Specifically, to find the fuel required for a module, take its mass, divide by three, round down, and subtract 2.*** For example:\n",
    "- For a mass of 12, divide by 3 and round down to get 4, then subtract 2 to get 2.\n",
    "- For a mass of 14, dividing by 3 and rounding down still yields 4, so the fuel required is also 2.\n",
    "- For a mass of 1969, the fuel required is 654.\n",
    "- For a mass of 100756, the fuel required is 33583.\n",
    "\n",
    "The Fuel Counter-Upper needs to know the total fuel requirement. To find it, individually calculate the fuel needed for the mass of each module (your puzzle input), then add together all the fuel values."
   ]
  },
  {
   "cell_type": "markdown",
   "metadata": {},
   "source": [
    "***What is the sum of the fuel requirements for all of the modules on your spacecraft?***"
   ]
  },
  {
   "cell_type": "markdown",
   "metadata": {},
   "source": [
    "To begin, [get your puzzle input](https://adventofcode.com/2019/day/1/input)."
   ]
  },
  {
   "cell_type": "code",
   "execution_count": 1,
   "metadata": {},
   "outputs": [],
   "source": [
    "# Prep Notebook\n",
    "import pandas as pd\n",
    "import numpy as np"
   ]
  },
  {
   "cell_type": "code",
   "execution_count": 2,
   "metadata": {},
   "outputs": [],
   "source": [
    "# Functionize calculation by mass\n",
    "\n",
    "def fuel_calc(mass):\n",
    "    return (mass // 3) - 2"
   ]
  },
  {
   "cell_type": "code",
   "execution_count": 3,
   "metadata": {},
   "outputs": [],
   "source": [
    "# Functionize fuel-counter-upper\n",
    "\n",
    "def fuel_counter_upper(df, mass_col='mass', fuel_col='fuel', test_id='p1'):\n",
    "    df[fuel_col] = df[mass_col].apply(lambda x: fuel_calc(x))\n",
    "    return df[fuel_col].sum()"
   ]
  },
  {
   "cell_type": "code",
   "execution_count": 4,
   "metadata": {},
   "outputs": [],
   "source": [
    "# Functionize testing\n",
    "\n",
    "def test_target_check(df, target_col='target', test_col='test', result_col='result'):\n",
    "    df[result_col] = df[test_col] == df[target_col]\n",
    "    return len(df[result_col]) == sum(df[result_col])"
   ]
  },
  {
   "cell_type": "code",
   "execution_count": 5,
   "metadata": {},
   "outputs": [
    {
     "data": {
      "text/html": "<div>\n<style scoped>\n    .dataframe tbody tr th:only-of-type {\n        vertical-align: middle;\n    }\n\n    .dataframe tbody tr th {\n        vertical-align: top;\n    }\n\n    .dataframe thead th {\n        text-align: right;\n    }\n</style>\n<table border=\"1\" class=\"dataframe\">\n  <thead>\n    <tr style=\"text-align: right;\">\n      <th></th>\n      <th>mass</th>\n    </tr>\n  </thead>\n  <tbody>\n    <tr>\n      <th>0</th>\n      <td>12</td>\n    </tr>\n    <tr>\n      <th>1</th>\n      <td>14</td>\n    </tr>\n    <tr>\n      <th>2</th>\n      <td>1969</td>\n    </tr>\n    <tr>\n      <th>3</th>\n      <td>100756</td>\n    </tr>\n  </tbody>\n</table>\n</div>",
      "text/plain": "     mass\n0      12\n1      14\n2    1969\n3  100756"
     },
     "execution_count": 5,
     "metadata": {},
     "output_type": "execute_result"
    }
   ],
   "source": [
    "# Create test dataframe using test data\n",
    "\n",
    "test_df = pd.DataFrame([12, 14, 1969, 100756], columns=['mass'])\n",
    "test_df"
   ]
  },
  {
   "cell_type": "code",
   "execution_count": 6,
   "metadata": {},
   "outputs": [
    {
     "data": {
      "text/html": "<div>\n<style scoped>\n    .dataframe tbody tr th:only-of-type {\n        vertical-align: middle;\n    }\n\n    .dataframe tbody tr th {\n        vertical-align: top;\n    }\n\n    .dataframe thead th {\n        text-align: right;\n    }\n</style>\n<table border=\"1\" class=\"dataframe\">\n  <thead>\n    <tr style=\"text-align: right;\">\n      <th></th>\n      <th>mass</th>\n      <th>target_p1</th>\n      <th>fuel_p1</th>\n      <th>result_p1</th>\n    </tr>\n  </thead>\n  <tbody>\n    <tr>\n      <th>0</th>\n      <td>12</td>\n      <td>2</td>\n      <td>2</td>\n      <td>True</td>\n    </tr>\n    <tr>\n      <th>1</th>\n      <td>14</td>\n      <td>2</td>\n      <td>2</td>\n      <td>True</td>\n    </tr>\n    <tr>\n      <th>2</th>\n      <td>1969</td>\n      <td>654</td>\n      <td>654</td>\n      <td>True</td>\n    </tr>\n    <tr>\n      <th>3</th>\n      <td>100756</td>\n      <td>33583</td>\n      <td>33583</td>\n      <td>True</td>\n    </tr>\n  </tbody>\n</table>\n</div>",
      "text/plain": "     mass  target_p1  fuel_p1  result_p1\n0      12          2        2       True\n1      14          2        2       True\n2    1969        654      654       True\n3  100756      33583    33583       True"
     },
     "metadata": {},
     "output_type": "display_data"
    },
    {
     "name": "stdout",
     "output_type": "stream",
     "text": "Total: 34241 Result: True\n"
    }
   ],
   "source": [
    "# Test P1\n",
    "\n",
    "mass_col = 'mass'\n",
    "target_col1 = 'target_p1'\n",
    "fuel_col = 'fuel_p1'\n",
    "result_col1 = 'result_p1'\n",
    "\n",
    "test_df[target_col1] = [2, 2, 654, 33583]\n",
    "test_p1 = fuel_counter_upper(test_df, mass_col=mass_col, fuel_col=fuel_col)\n",
    "result_p1 = test_target_check(test_df, target_col=target_col1, test_col=fuel_col, result_col=result_col1)\n",
    "display(test_df)\n",
    "print('Total:', test_p1, 'Result:', result_p1)"
   ]
  },
  {
   "cell_type": "code",
   "execution_count": 7,
   "metadata": {},
   "outputs": [
    {
     "data": {
      "text/html": "<div>\n<style scoped>\n    .dataframe tbody tr th:only-of-type {\n        vertical-align: middle;\n    }\n\n    .dataframe tbody tr th {\n        vertical-align: top;\n    }\n\n    .dataframe thead th {\n        text-align: right;\n    }\n</style>\n<table border=\"1\" class=\"dataframe\">\n  <thead>\n    <tr style=\"text-align: right;\">\n      <th></th>\n      <th>mass</th>\n    </tr>\n  </thead>\n  <tbody>\n    <tr>\n      <th>0</th>\n      <td>148319</td>\n    </tr>\n    <tr>\n      <th>1</th>\n      <td>54894</td>\n    </tr>\n    <tr>\n      <th>2</th>\n      <td>105685</td>\n    </tr>\n    <tr>\n      <th>3</th>\n      <td>136247</td>\n    </tr>\n    <tr>\n      <th>4</th>\n      <td>133339</td>\n    </tr>\n  </tbody>\n</table>\n</div>",
      "text/plain": "     mass\n0  148319\n1   54894\n2  105685\n3  136247\n4  133339"
     },
     "execution_count": 7,
     "metadata": {},
     "output_type": "execute_result"
    }
   ],
   "source": [
    "# Load Data\n",
    "mod_mass = pd.read_csv('../DataFiles/2019_01.txt', header=None, names=['mass'])\n",
    "mod_mass.head()"
   ]
  },
  {
   "cell_type": "code",
   "execution_count": 8,
   "metadata": {},
   "outputs": [
    {
     "data": {
      "text/html": "<div>\n<style scoped>\n    .dataframe tbody tr th:only-of-type {\n        vertical-align: middle;\n    }\n\n    .dataframe tbody tr th {\n        vertical-align: top;\n    }\n\n    .dataframe thead th {\n        text-align: right;\n    }\n</style>\n<table border=\"1\" class=\"dataframe\">\n  <thead>\n    <tr style=\"text-align: right;\">\n      <th></th>\n      <th>mass</th>\n      <th>fuel</th>\n    </tr>\n  </thead>\n  <tbody>\n    <tr>\n      <th>0</th>\n      <td>148319</td>\n      <td>49437</td>\n    </tr>\n    <tr>\n      <th>1</th>\n      <td>54894</td>\n      <td>18296</td>\n    </tr>\n    <tr>\n      <th>2</th>\n      <td>105685</td>\n      <td>35226</td>\n    </tr>\n    <tr>\n      <th>3</th>\n      <td>136247</td>\n      <td>45413</td>\n    </tr>\n    <tr>\n      <th>4</th>\n      <td>133339</td>\n      <td>44444</td>\n    </tr>\n  </tbody>\n</table>\n</div>",
      "text/plain": "     mass   fuel\n0  148319  49437\n1   54894  18296\n2  105685  35226\n3  136247  45413\n4  133339  44444"
     },
     "execution_count": 8,
     "metadata": {},
     "output_type": "execute_result"
    }
   ],
   "source": [
    "# Apply calculation to each module\n",
    "mod_fuel = fuel_counter_upper(mod_mass, mass_col='mass', fuel_col='fuel', test_id=None)\n",
    "mod_mass.head()"
   ]
  },
  {
   "cell_type": "code",
   "execution_count": 9,
   "metadata": {},
   "outputs": [
    {
     "data": {
      "text/plain": "3336985"
     },
     "execution_count": 9,
     "metadata": {},
     "output_type": "execute_result"
    }
   ],
   "source": [
    "# Get sum of fuel\n",
    "mod_fuel"
   ]
  },
  {
   "cell_type": "markdown",
   "metadata": {},
   "source": [
    "### That's the right answer! You are *one gold star* closer to rescuing Santa."
   ]
  },
  {
   "cell_type": "markdown",
   "metadata": {},
   "source": [
    "## Part II"
   ]
  },
  {
   "cell_type": "markdown",
   "metadata": {},
   "source": [
    "#### During the second Go / No Go poll, the Elf in charge of the Rocket Equation Double-Checker stops the launch sequence. \n",
    "\n",
    "Apparently, you forgot to include additional fuel for the fuel you just added.\n",
    "\n",
    "Fuel itself requires fuel just like a module - take its mass, divide by three, round down, and subtract 2. However, that fuel also requires fuel, and that fuel requires fuel, and so on. Any mass that would require negative fuel should instead be treated as if it requires zero fuel; the remaining mass, if any, is instead handled by wishing really hard, which has no mass and is outside the scope of this calculation.\n",
    "\n",
    "So, for each module mass, calculate its fuel and add it to the total. Then, treat the fuel amount you just calculated as the input mass and repeat the process, continuing until a fuel requirement is zero or negative. For example:\n",
    "- A module of mass 14 requires 2 fuel. This fuel requires no further fuel (2 divided by 3 and rounded down is 0, which would call for a negative fuel), so the total fuel required is still just 2.\n",
    "- At first, a module of mass 1969 requires 654 fuel. Then, this fuel requires 216 more fuel (654 / 3 - 2). 216 then requires 70 more fuel, which requires 21 fuel, which requires 5 fuel, which requires no further fuel. So, the total fuel required for a module of mass 1969 is 654 + 216 + 70 + 21 + 5 = 966.\n",
    "- The fuel required by a module of mass 100756 and its fuel is: 33583 + 11192 + 3728 + 1240 + 411 + 135 + 43 + 12 + 2 = 50346.\n",
    "\n",
    "What is the sum of the fuel requirements for all of the modules on your spacecraft when also taking into account the mass of the added fuel? (Calculate the fuel requirements for each module separately, then add them all up at the end.)"
   ]
  },
  {
   "cell_type": "code",
   "execution_count": 10,
   "metadata": {},
   "outputs": [],
   "source": [
    "# Functionize fuel calculation\n",
    "\n",
    "def fuel_recalc(fuel):\n",
    "    refuel = fuel\n",
    "    new_fuel = fuel\n",
    "    while refuel > 8:\n",
    "        refuel = max(0, fuel_calc(refuel))\n",
    "        new_fuel += refuel\n",
    "    return new_fuel"
   ]
  },
  {
   "cell_type": "code",
   "execution_count": 11,
   "metadata": {},
   "outputs": [],
   "source": [
    "# Functionize fuel-topper-offer\n",
    "\n",
    "def fuel_topper_offer(df, fuel_col='fuel', refuel_col='refuel'):\n",
    "    df[refuel_col] = df[fuel_col].apply(lambda x: fuel_recalc(x))\n",
    "    return df[refuel_col].sum()"
   ]
  },
  {
   "cell_type": "code",
   "execution_count": 12,
   "metadata": {},
   "outputs": [
    {
     "data": {
      "text/html": "<div>\n<style scoped>\n    .dataframe tbody tr th:only-of-type {\n        vertical-align: middle;\n    }\n\n    .dataframe tbody tr th {\n        vertical-align: top;\n    }\n\n    .dataframe thead th {\n        text-align: right;\n    }\n</style>\n<table border=\"1\" class=\"dataframe\">\n  <thead>\n    <tr style=\"text-align: right;\">\n      <th></th>\n      <th>mass</th>\n      <th>target_p1</th>\n      <th>fuel_p1</th>\n      <th>result_p1</th>\n      <th>target_p2</th>\n      <th>refuel_p2</th>\n      <th>result_p2</th>\n    </tr>\n  </thead>\n  <tbody>\n    <tr>\n      <th>0</th>\n      <td>12</td>\n      <td>2</td>\n      <td>2</td>\n      <td>True</td>\n      <td>2</td>\n      <td>2</td>\n      <td>True</td>\n    </tr>\n    <tr>\n      <th>1</th>\n      <td>14</td>\n      <td>2</td>\n      <td>2</td>\n      <td>True</td>\n      <td>2</td>\n      <td>2</td>\n      <td>True</td>\n    </tr>\n    <tr>\n      <th>2</th>\n      <td>1969</td>\n      <td>654</td>\n      <td>654</td>\n      <td>True</td>\n      <td>966</td>\n      <td>966</td>\n      <td>True</td>\n    </tr>\n    <tr>\n      <th>3</th>\n      <td>100756</td>\n      <td>33583</td>\n      <td>33583</td>\n      <td>True</td>\n      <td>50346</td>\n      <td>50346</td>\n      <td>True</td>\n    </tr>\n  </tbody>\n</table>\n</div>",
      "text/plain": "     mass  target_p1  fuel_p1  result_p1  target_p2  refuel_p2  result_p2\n0      12          2        2       True          2          2       True\n1      14          2        2       True          2          2       True\n2    1969        654      654       True        966        966       True\n3  100756      33583    33583       True      50346      50346       True"
     },
     "metadata": {},
     "output_type": "display_data"
    },
    {
     "name": "stdout",
     "output_type": "stream",
     "text": "Total: 51316 Result: True\n"
    }
   ],
   "source": [
    "# Test P1\n",
    "\n",
    "target_col2 = 'target_p2'\n",
    "fuel_col = 'fuel_p1'\n",
    "refuel_col = 'refuel_p2'\n",
    "result_col2 = 'result_p2'\n",
    "\n",
    "test_df[target_col2] = [2, 2, 966, 50346]\n",
    "test_p2 = fuel_topper_offer(test_df, fuel_col=fuel_col, refuel_col=refuel_col)\n",
    "result_p2 = test_target_check(test_df, target_col=target_col2, test_col=refuel_col, result_col=result_col2)\n",
    "display(test_df)\n",
    "print('Total:', test_p2, 'Result:', result_p2)"
   ]
  },
  {
   "cell_type": "code",
   "execution_count": 13,
   "metadata": {},
   "outputs": [
    {
     "data": {
      "text/html": "<div>\n<style scoped>\n    .dataframe tbody tr th:only-of-type {\n        vertical-align: middle;\n    }\n\n    .dataframe tbody tr th {\n        vertical-align: top;\n    }\n\n    .dataframe thead th {\n        text-align: right;\n    }\n</style>\n<table border=\"1\" class=\"dataframe\">\n  <thead>\n    <tr style=\"text-align: right;\">\n      <th></th>\n      <th>mass</th>\n      <th>fuel</th>\n      <th>refuel</th>\n    </tr>\n  </thead>\n  <tbody>\n    <tr>\n      <th>0</th>\n      <td>148319</td>\n      <td>49437</td>\n      <td>74126</td>\n    </tr>\n    <tr>\n      <th>1</th>\n      <td>54894</td>\n      <td>18296</td>\n      <td>27417</td>\n    </tr>\n    <tr>\n      <th>2</th>\n      <td>105685</td>\n      <td>35226</td>\n      <td>52810</td>\n    </tr>\n    <tr>\n      <th>3</th>\n      <td>136247</td>\n      <td>45413</td>\n      <td>68089</td>\n    </tr>\n    <tr>\n      <th>4</th>\n      <td>133339</td>\n      <td>44444</td>\n      <td>66635</td>\n    </tr>\n  </tbody>\n</table>\n</div>",
      "text/plain": "     mass   fuel  refuel\n0  148319  49437   74126\n1   54894  18296   27417\n2  105685  35226   52810\n3  136247  45413   68089\n4  133339  44444   66635"
     },
     "execution_count": 13,
     "metadata": {},
     "output_type": "execute_result"
    }
   ],
   "source": [
    "# Apply calculation to each module\n",
    "\n",
    "mod_refuel = fuel_topper_offer(mod_mass, fuel_col='fuel', refuel_col='refuel')\n",
    "mod_mass.head()"
   ]
  },
  {
   "cell_type": "code",
   "execution_count": 14,
   "metadata": {},
   "outputs": [
    {
     "data": {
      "text/plain": "5002611"
     },
     "execution_count": 14,
     "metadata": {},
     "output_type": "execute_result"
    }
   ],
   "source": [
    "# Get sum of fuel\n",
    "mod_refuel"
   ]
  },
  {
   "cell_type": "markdown",
   "metadata": {},
   "source": [
    "### That's the right answer! You are *one gold star* closer to rescuing Santa.\n",
    "\n",
    "You have completed Day 1!"
   ]
  },
  {
   "cell_type": "code",
   "execution_count": null,
   "metadata": {},
   "outputs": [],
   "source": []
  }
 ],
 "metadata": {
  "kernelspec": {
   "display_name": "Python 3",
   "language": "python",
   "name": "python3"
  },
  "language_info": {
   "codemirror_mode": {
    "name": "ipython",
    "version": 3
   },
   "file_extension": ".py",
   "mimetype": "text/x-python",
   "name": "python",
   "nbconvert_exporter": "python",
   "pygments_lexer": "ipython3",
   "version": "3.7.3"
  }
 },
 "nbformat": 4,
 "nbformat_minor": 2
}