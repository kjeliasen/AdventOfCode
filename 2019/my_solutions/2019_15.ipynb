{
 "cells": [
  {
   "cell_type": "markdown",
   "metadata": {},
   "source": [
    "# Day 15: Oxygen System\n",
    "\n",
    "[Aoc Site](https://adventofcode.com/2019/day/15)"
   ]
  },
  {
   "cell_type": "markdown",
   "metadata": {},
   "source": [
    "## Part I"
   ]
  },
  {
   "cell_type": "markdown",
   "metadata": {},
   "source": [
    "<p>Out here in deep space, many things can go wrong. Fortunately, many of those things have <span title=\"Which indicator lights indicate when the indicator lights have failed?\">indicator lights</span>. Unfortunately, one of those lights is lit: the oxygen system for part of the ship has failed!</p>\n",
    "<p>According to the readouts, the oxygen system must have failed days ago after a rupture in oxygen tank two; that section of the ship was automatically sealed once oxygen levels went dangerously low. A single remotely-operated <em>repair droid</em> is your only option for fixing the oxygen system.</p>\n",
    "<p>The Elves' care package included an <a href=\"9\">Intcode</a> program (your puzzle input) that you can use to remotely control the repair droid. By running that program, you can direct the repair droid to the oxygen system and fix the problem.</p>\n",
    "<p>The remote control program executes the following steps in a loop forever:</p>\n",
    "<ul>\n",
    "<li>Accept a <em>movement command</em> via an input instruction.</li>\n",
    "<li>Send the movement command to the repair droid.</li>\n",
    "<li>Wait for the repair droid to finish the movement operation.</li>\n",
    "<li>Report on the <em>status</em> of the repair droid via an output instruction.</li>\n",
    "</ul>\n",
    "<p>Only four <em>movement commands</em> are understood: north (<code>1</code>), south (<code>2</code>), west (<code>3</code>), and east (<code>4</code>). Any other command is invalid. The movements differ in direction, but not in distance: in a long enough east-west hallway, a series of commands like <code>4,4,4,4,3,3,3,3</code> would leave the repair droid back where it started.</p>\n",
    "<p>The repair droid can reply with any of the following <em>status</em> codes:</p>\n",
    "<ul>\n",
    "<li><code>0</code>: The repair droid hit a wall. Its position has not changed.</li>\n",
    "<li><code>1</code>: The repair droid has moved one step in the requested direction.</li>\n",
    "<li><code>2</code>: The repair droid has moved one step in the requested direction; its new position is the location of the oxygen system.</li>\n",
    "</ul>\n",
    "<p>You don't know anything about the area around the repair droid, but you can figure it out by watching the status codes.</p>\n",
    "<p>For example, we can draw the area using <code>D</code> for the droid, <code>#</code> for walls, <code>.</code> for locations the droid can traverse, and empty space for unexplored locations.  Then, the initial state looks like this:</p>\n",
    "<pre><code>      \n",
    "      \n",
    "   D  \n",
    "      \n",
    "      \n",
    "</code></pre>\n",
    "<p>To make the droid go north, send it <code>1</code>. If it replies with <code>0</code>, you know that location is a wall and that the droid didn't move:</p>\n",
    "<pre><code>      \n",
    "   #  \n",
    "   D  \n",
    "      \n",
    "      \n",
    "</code></pre>\n",
    "<p>To move east, send <code>4</code>; a reply of <code>1</code> means the movement was successful:</p>\n",
    "<pre><code>      \n",
    "   #  \n",
    "   .D \n",
    "      \n",
    "      \n",
    "</code></pre>\n",
    "<p>Then, perhaps attempts to move north (<code>1</code>), south (<code>2</code>), and east (<code>4</code>) are all met with replies of <code>0</code>:</p>\n",
    "<pre><code>      \n",
    "   ## \n",
    "   .D#\n",
    "    # \n",
    "      \n",
    "</code></pre>\n",
    "<p>Now, you know the repair droid is in a dead end. Backtrack with <code>3</code> (which you already know will get a reply of <code>1</code> because you already know that location is open):</p>\n",
    "<pre><code>      \n",
    "   ## \n",
    "   D.#\n",
    "    # \n",
    "      \n",
    "</code></pre>\n",
    "<p>Then, perhaps west (<code>3</code>) gets a reply of <code>0</code>, south (<code>2</code>) gets a reply of <code>1</code>, south again (<code>2</code>) gets a reply of <code>0</code>, and then west (<code>3</code>) gets a reply of <code>2</code>:</p>\n",
    "<pre><code>      \n",
    "   ## \n",
    "  #..#\n",
    "  D.# \n",
    "   #  \n",
    "</code></pre>\n",
    "<p>Now, because of the reply of <code>2</code>, you know you've found the <em>oxygen system</em>! In this example, it was only <code><em>2</em></code> moves away from the repair droid's starting position.</p>\n",
    "<p><em>What is the fewest number of movement commands</em> required to move the repair droid from its starting position to the location of the oxygen system?</p>"
   ]
  },
  {
   "cell_type": "markdown",
   "metadata": {},
   "source": [
    "To begin, get your [puzzle input](https://adventofcode.com/2019/day/15/input)."
   ]
  },
  {
   "cell_type": "code",
   "execution_count": 34,
   "metadata": {},
   "outputs": [],
   "source": [
    "# Prep Notebook\n",
    "# import pandas as pd\n",
    "# import numpy as np\n",
    "\n",
    "import disfunctions as func"
   ]
  },
  {
   "cell_type": "code",
   "execution_count": null,
   "metadata": {},
   "outputs": [],
   "source": [
    "ansp1 = 99999"
   ]
  },
  {
   "cell_type": "code",
   "execution_count": null,
   "metadata": {},
   "outputs": [],
   "source": [
    "actp1 = 99999\n",
    "ansp1 == actp1"
   ]
  },
  {
   "cell_type": "markdown",
   "metadata": {},
   "source": [
    "### PART1STATUS"
   ]
  },
  {
   "cell_type": "markdown",
   "metadata": {},
   "source": [
    "# Part II"
   ]
  },
  {
   "cell_type": "markdown",
   "metadata": {},
   "source": [
    "PART2TEXT"
   ]
  },
  {
   "cell_type": "code",
   "execution_count": null,
   "metadata": {},
   "outputs": [],
   "source": [
    "ansp2 = 99999"
   ]
  },
  {
   "cell_type": "code",
   "execution_count": null,
   "metadata": {},
   "outputs": [],
   "source": [
    "actp2 = 99999\n",
    "ansp2 == actp2"
   ]
  },
  {
   "cell_type": "markdown",
   "metadata": {},
   "source": [
    "### PART2RESPONSE"
   ]
  }
 ],
 "metadata": {
  "kernelspec": {
   "display_name": "Python 3",
   "language": "python",
   "name": "python3"
  },
  "language_info": {
   "codemirror_mode": {
    "name": "ipython",
    "version": 3
   },
   "file_extension": ".py",
   "mimetype": "text/x-python",
   "name": "python",
   "nbconvert_exporter": "python",
   "pygments_lexer": "ipython3",
   "version": "3.7.3"
  }
 },
 "nbformat": 4,
 "nbformat_minor": 2
}
